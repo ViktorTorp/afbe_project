{
 "cells": [
  {
   "cell_type": "code",
   "execution_count": 1,
   "id": "60ca217b",
   "metadata": {},
   "outputs": [],
   "source": [
    "import numpy as np\n",
    "import pandas as pd\n",
    "import matplotlib.pyplot as plt\n",
    "import seaborn as sns\n",
    "from sklearn.linear_model import LogisticRegression, LinearRegression\n",
    "from sklearn.tree import DecisionTreeClassifier\n",
    "from sklearn.model_selection import KFold, StratifiedKFold\n",
    "\n",
    "from sklearn import preprocessing\n",
    "from sklearn.metrics import classification_report, accuracy_score\n",
    "from src.model_selection import test_model\n",
    "from sklearn.metrics import confusion_matrix, mean_squared_error\n",
    "from scipy.stats import pearsonr"
   ]
  },
  {
   "cell_type": "code",
   "execution_count": 2,
   "id": "505c6f6f",
   "metadata": {},
   "outputs": [],
   "source": [
    "from src.processing import import_data\n",
    "from src.model_selection import test_model\n",
    "from src.metrics import equalized_odds"
   ]
  },
  {
   "cell_type": "markdown",
   "id": "9298ee95",
   "metadata": {},
   "source": [
    "# Load data"
   ]
  },
  {
   "cell_type": "code",
   "execution_count": 3,
   "id": "e2263c4e",
   "metadata": {},
   "outputs": [],
   "source": [
    "data_init, data_full, data, data_protected, data_y = import_data()"
   ]
  },
  {
   "cell_type": "code",
   "execution_count": 4,
   "id": "c4488f11",
   "metadata": {},
   "outputs": [],
   "source": [
    "IsBlack = data_full.IsBlack == 1"
   ]
  },
  {
   "cell_type": "code",
   "execution_count": 5,
   "id": "ae0f4ff1",
   "metadata": {},
   "outputs": [],
   "source": [
    "y_cols = [\"ViolentCrimesPerPop\", \"HighCrime\"]\n",
    "index_cols = [\"IsBlack\"]"
   ]
  },
  {
   "cell_type": "markdown",
   "id": "5ee4494b",
   "metadata": {},
   "source": [
    "# DesicionTreeClassifier\n",
    "## Baseline model"
   ]
  },
  {
   "cell_type": "code",
   "execution_count": 6,
   "id": "883f584f",
   "metadata": {},
   "outputs": [],
   "source": [
    "X, y = data_full.drop(columns=y_cols+index_cols), data_y[\"HighCrime\"]"
   ]
  },
  {
   "cell_type": "code",
   "execution_count": 7,
   "id": "c16f1b80",
   "metadata": {},
   "outputs": [],
   "source": [
    "kfold = KFold(n_splits=5, shuffle=True, random_state=1)\n",
    "\n",
    "\n",
    "model = DecisionTreeClassifier\n",
    "model_params = {\"max_depth\":3, \"random_state\":1}\n",
    "\n",
    "preds = test_model(model, X, y, kfold, model_params=model_params)"
   ]
  },
  {
   "cell_type": "markdown",
   "id": "2ed23cd4",
   "metadata": {},
   "source": [
    "### Equalized odds regarding black ratio"
   ]
  },
  {
   "cell_type": "code",
   "execution_count": 8,
   "id": "eb3fb1c8",
   "metadata": {},
   "outputs": [
    {
     "data": {
      "image/png": "[encoded data removed]",
      "text/plain": [
       "<Figure size 432x288 with 1 Axes>"
      ]
     },
     "metadata": {
      "needs_background": "light"
     },
     "output_type": "display_data"
    }
   ],
   "source": [
    "# Get scores for predominatly black areas\n",
    "recall, fpr = equalized_odds(data_y.HighCrime.values[IsBlack], preds[IsBlack])\n",
    "tmp_df_1 = pd.DataFrame({\"metric\":[\"recall\", \"fpr\"], \"score\":[recall, fpr], \"IsBlack\":[True, True]})\n",
    "\n",
    "# Get scores for non predominatly black areas\n",
    "recall, fpr = equalized_odds(data_y.HighCrime.values[~IsBlack], preds[~IsBlack])\n",
    "tmp_df_2 = pd.DataFrame({\"metric\":[\"recall\", \"fpr\"], \"score\":[recall, fpr], \"IsBlack\":[False, False]})\n",
    "\n",
    "# Concat results\n",
    "tmp_df = pd.concat([tmp_df_1, tmp_df_2])\n",
    "\n",
    "sns.barplot(data=tmp_df, x=\"metric\", y=\"score\", hue=\"IsBlack\")\n",
    "plt.show()"
   ]
  },
  {
   "cell_type": "code",
   "execution_count": 9,
   "id": "e25c13a4",
   "metadata": {},
   "outputs": [
    {
     "name": "stdout",
     "output_type": "stream",
     "text": [
      "              precision    recall  f1-score   support\n",
      "\n",
      "           0       0.90      0.93      0.92      1620\n",
      "           1       0.67      0.57      0.61       374\n",
      "\n",
      "    accuracy                           0.87      1994\n",
      "   macro avg       0.79      0.75      0.77      1994\n",
      "weighted avg       0.86      0.87      0.86      1994\n",
      "\n"
     ]
    }
   ],
   "source": [
    "print(classification_report(y, preds))"
   ]
  },
  {
   "cell_type": "code",
   "execution_count": 10,
   "id": "d7e62fc8",
   "metadata": {},
   "outputs": [
    {
     "data": {
      "text/plain": [
       "0.7026143790849673"
      ]
     },
     "execution_count": 10,
     "metadata": {},
     "output_type": "execute_result"
    }
   ],
   "source": [
    "accuracy_score(data_y.HighCrime.values[IsBlack], preds[IsBlack])"
   ]
  },
  {
   "cell_type": "code",
   "execution_count": 11,
   "id": "b6e562b1",
   "metadata": {},
   "outputs": [
    {
     "data": {
      "text/plain": [
       "0.8951421800947867"
      ]
     },
     "execution_count": 11,
     "metadata": {},
     "output_type": "execute_result"
    }
   ],
   "source": [
    "accuracy_score(data_y.HighCrime.values[~IsBlack], preds[~IsBlack])"
   ]
  },
  {
   "cell_type": "code",
   "execution_count": 12,
   "id": "c7acada6",
   "metadata": {},
   "outputs": [
    {
     "data": {
      "text/plain": [
       "(194, 213.0)"
      ]
     },
     "execution_count": 12,
     "metadata": {},
     "output_type": "execute_result"
    }
   ],
   "source": [
    "np.sum(data_y.HighCrime.values[IsBlack]), np.sum(preds[IsBlack])"
   ]
  },
  {
   "cell_type": "code",
   "execution_count": 13,
   "id": "08cd6689",
   "metadata": {},
   "outputs": [
    {
     "data": {
      "text/plain": [
       "(180, 105.0)"
      ]
     },
     "execution_count": 13,
     "metadata": {},
     "output_type": "execute_result"
    }
   ],
   "source": [
    "np.sum(data_y.HighCrime.values[~IsBlack]), np.sum(preds[~IsBlack])"
   ]
  },
  {
   "cell_type": "markdown",
   "id": "357f5fd8",
   "metadata": {},
   "source": [
    "## Debias data baseline (desicion tree)"
   ]
  },
  {
   "cell_type": "code",
   "execution_count": 14,
   "id": "9fab5f20",
   "metadata": {},
   "outputs": [],
   "source": [
    "from src.debias_data import debais_data"
   ]
  },
  {
   "cell_type": "code",
   "execution_count": 15,
   "id": "c66c277e",
   "metadata": {},
   "outputs": [],
   "source": [
    "y_cols = [\"ViolentCrimesPerPop\", \"HighCrime\"]\n",
    "protected_cols = [\"racepctblack\",\n",
    "                      \"racePctWhite\", \"racePctAsian\", \"racePctHisp\"]\n",
    "index_cols = [\"IsBlack\"]\n",
    "nonprotected_cols = [col for col in data_full.columns if col not in protected_cols + y_cols + index_cols]"
   ]
  },
  {
   "cell_type": "code",
   "execution_count": 16,
   "id": "a70c50c1",
   "metadata": {},
   "outputs": [],
   "source": [
    "# Initialize X (with out the label or the index columns)\n",
    "X, y = data_full.drop(columns=y_cols+index_cols), data_y[\"HighCrime\"]"
   ]
  },
  {
   "cell_type": "code",
   "execution_count": 17,
   "id": "8641dc52",
   "metadata": {},
   "outputs": [],
   "source": [
    "# Initialize the scaling and debiasing function\n",
    "l_value = 0.0\n",
    "scaler = debais_data(protected_cols, nonprotected_cols, lambda_=l_value)"
   ]
  },
  {
   "cell_type": "code",
   "execution_count": 18,
   "id": "b5a864c9",
   "metadata": {},
   "outputs": [],
   "source": [
    "kfold = KFold(n_splits=5, shuffle=True, random_state=1)\n",
    "\n",
    "model = DecisionTreeClassifier\n",
    "model_params = {\"random_state\":1}\n",
    "\n",
    "preds = test_model(model, X, y, kfold,scaler=scaler, model_params=model_params)"
   ]
  },
  {
   "cell_type": "markdown",
   "id": "07bca9c3",
   "metadata": {},
   "source": [
    "### Equalized odds regarding black ratio with unbias data"
   ]
  },
  {
   "cell_type": "code",
   "execution_count": 19,
   "id": "848e1f2e",
   "metadata": {},
   "outputs": [
    {
     "data": {
      "image/png": "[encoded data removed]",
      "text/plain": [
       "<Figure size 432x288 with 1 Axes>"
      ]
     },
     "metadata": {
      "needs_background": "light"
     },
     "output_type": "display_data"
    }
   ],
   "source": [
    "# Get scores for predominatly black areas\n",
    "recall, fpr = equalized_odds(data_y.HighCrime.values[IsBlack], preds[IsBlack])\n",
    "tmp_df_1 = pd.DataFrame({\"metric\":[\"recall\", \"fpr\"], \"score\":[recall, fpr], \"IsBlack\":[True, True]})\n",
    "\n",
    "# Get scores for non predominatly black areas\n",
    "recall, fpr = equalized_odds(data_y.HighCrime.values[~IsBlack], preds[~IsBlack])\n",
    "tmp_df_2 = pd.DataFrame({\"metric\":[\"recall\", \"fpr\"], \"score\":[recall, fpr], \"IsBlack\":[False, False]})\n",
    "\n",
    "# Concat results\n",
    "tmp_df = pd.concat([tmp_df_1, tmp_df_2])\n",
    "\n",
    "sns.barplot(data=tmp_df, x=\"metric\", y=\"score\", hue=\"IsBlack\")\n",
    "plt.show()"
   ]
  },
  {
   "cell_type": "code",
   "execution_count": 20,
   "id": "a744e6ee",
   "metadata": {},
   "outputs": [
    {
     "name": "stdout",
     "output_type": "stream",
     "text": [
      "              precision    recall  f1-score   support\n",
      "\n",
      "           0       0.87      0.87      0.87      1620\n",
      "           1       0.45      0.45      0.45       374\n",
      "\n",
      "    accuracy                           0.79      1994\n",
      "   macro avg       0.66      0.66      0.66      1994\n",
      "weighted avg       0.79      0.79      0.79      1994\n",
      "\n"
     ]
    }
   ],
   "source": [
    "print(classification_report(y, preds))"
   ]
  },
  {
   "cell_type": "code",
   "execution_count": 21,
   "id": "a0315103",
   "metadata": {},
   "outputs": [
    {
     "data": {
      "text/plain": [
       "0.5947712418300654"
      ]
     },
     "execution_count": 21,
     "metadata": {},
     "output_type": "execute_result"
    }
   ],
   "source": [
    "accuracy_score(data_y.HighCrime.values[IsBlack], preds[IsBlack])"
   ]
  },
  {
   "cell_type": "code",
   "execution_count": 22,
   "id": "2706753c",
   "metadata": {},
   "outputs": [
    {
     "data": {
      "text/plain": [
       "0.8281990521327014"
      ]
     },
     "execution_count": 22,
     "metadata": {},
     "output_type": "execute_result"
    }
   ],
   "source": [
    "accuracy_score(data_y.HighCrime.values[~IsBlack], preds[~IsBlack])"
   ]
  },
  {
   "cell_type": "code",
   "execution_count": 23,
   "id": "6beae7ff",
   "metadata": {},
   "outputs": [
    {
     "data": {
      "text/plain": [
       "(194, 138.0)"
      ]
     },
     "execution_count": 23,
     "metadata": {},
     "output_type": "execute_result"
    }
   ],
   "source": [
    "np.sum(data_y.HighCrime.values[IsBlack]), np.sum(preds[IsBlack])"
   ]
  },
  {
   "cell_type": "code",
   "execution_count": 24,
   "id": "ce53de22",
   "metadata": {},
   "outputs": [
    {
     "data": {
      "text/plain": [
       "(180, 238.0)"
      ]
     },
     "execution_count": 24,
     "metadata": {},
     "output_type": "execute_result"
    }
   ],
   "source": [
    "np.sum(data_y.HighCrime.values[~IsBlack]), np.sum(preds[~IsBlack])"
   ]
  },
  {
   "cell_type": "markdown",
   "id": "2a0885ef",
   "metadata": {},
   "source": [
    "# Lambda loop"
   ]
  },
  {
   "cell_type": "code",
   "execution_count": 25,
   "id": "47cfe371",
   "metadata": {},
   "outputs": [],
   "source": [
    "from tqdm import tqdm"
   ]
  },
  {
   "cell_type": "code",
   "execution_count": 26,
   "id": "36e5f0ab",
   "metadata": {},
   "outputs": [],
   "source": [
    "y_cols = [\"ViolentCrimesPerPop\", \"HighCrime\"]\n",
    "protected_cols = [\"racepctblack\",\n",
    "                      \"racePctWhite\", \"racePctAsian\", \"racePctHisp\"]\n",
    "index_cols = [\"IsBlack\"]\n",
    "nonprotected_cols = [col for col in data_full.columns if col not in protected_cols + y_cols + index_cols]"
   ]
  },
  {
   "cell_type": "code",
   "execution_count": 27,
   "id": "5cff93bf",
   "metadata": {},
   "outputs": [],
   "source": [
    "# Initialize X (with out the label or the index columns)\n",
    "X, y = data_full.drop(columns=y_cols+index_cols), data_y[\"HighCrime\"]"
   ]
  },
  {
   "cell_type": "code",
   "execution_count": 28,
   "id": "d68176b0",
   "metadata": {},
   "outputs": [],
   "source": [
    "lambda_values = np.linspace(0,1,30)"
   ]
  },
  {
   "cell_type": "code",
   "execution_count": 29,
   "id": "fbad09ef",
   "metadata": {},
   "outputs": [
    {
     "name": "stderr",
     "output_type": "stream",
     "text": [
      "100%|██████████████████████████████████████████████████████████████████████████████████████████████████████████████████████████████████| 30/30 [02:11<00:00,  4.39s/it]\n"
     ]
    }
   ],
   "source": [
    "predictions = {}\n",
    "result_metrics = {}\n",
    "for l_value in tqdm(lambda_values):\n",
    "    scaler = debais_data(protected_cols, nonprotected_cols, lambda_=l_value)\n",
    "    kfold = KFold(n_splits=5, shuffle=True, random_state=1)\n",
    "\n",
    "    model = DecisionTreeClassifier\n",
    "    model_params = {\"random_state\":1}\n",
    "\n",
    "    preds = test_model(model, X, y, kfold,scaler=scaler, model_params=model_params)\n",
    "    predictions[f\"{l_value:.2f}\"] = preds\n",
    "    \n",
    "    acc_black = accuracy_score(data_y.HighCrime.values[IsBlack], preds[IsBlack])\n",
    "    acc_non_black = accuracy_score(data_y.HighCrime.values[~IsBlack], preds[~IsBlack])\n",
    "    recall_black, fpr_black = equalized_odds(data_y.HighCrime.values[IsBlack], preds[IsBlack])\n",
    "    recall_non_black, fpr_non_black = equalized_odds(data_y.HighCrime.values[~IsBlack], preds[~IsBlack])\n",
    "    num_high_black = np.sum(data_y.HighCrime.values[IsBlack]), np.sum(preds[IsBlack])\n",
    "    num_highn_non_black = np.sum(data_y.HighCrime.values[~IsBlack]), np.sum(preds[~IsBlack])\n",
    "    result_metrics[f\"{l_value:.2f}\"] = {\"acc_black\":acc_black,\n",
    "                                        \"acc_non_black\": acc_non_black,\n",
    "                                        \"recall_black\":recall_black, \n",
    "                                        \"recall_non_black\":recall_non_black,\n",
    "                                         \"fpr_black\": fpr_black,\n",
    "                                         \"fpr_non_black\": fpr_non_black,\n",
    "                                        \"num_high_black\":num_high_black,\n",
    "                                       \"num_highn_non_black\":num_highn_non_black}"
   ]
  },
  {
   "cell_type": "code",
   "execution_count": 30,
   "id": "25061c52",
   "metadata": {},
   "outputs": [],
   "source": [
    "makro_acc = []\n",
    "equal_odds_mse = []\n",
    "for key, res in result_metrics.items():\n",
    "    m_acc = (res[\"acc_black\"] + res[\"acc_non_black\"])/2\n",
    "    se_recall = (res[\"recall_black\"]**2 - res[\"recall_non_black\"]**2)\n",
    "    se_fpr = (res[\"fpr_black\"]**2 - res[\"fpr_non_black\"]**2)\n",
    "    mse_total = (se_recall + se_fpr)/2\n",
    "    \n",
    "    makro_acc.append(m_acc)\n",
    "    equal_odds_mse.append(mse_total)"
   ]
  },
  {
   "cell_type": "code",
   "execution_count": 31,
   "id": "5b31637e",
   "metadata": {},
   "outputs": [
    {
     "data": {
      "text/plain": [
       "Text(0, 0.5, 'Mean squerred difference in equalized odds')"
      ]
     },
     "execution_count": 31,
     "metadata": {},
     "output_type": "execute_result"
    },
    {
     "data": {
      "image/png": "[encoded data removed]",
      "text/plain": [
       "<Figure size 720x504 with 1 Axes>"
      ]
     },
     "metadata": {
      "needs_background": "light"
     },
     "output_type": "display_data"
    }
   ],
   "source": [
    "fig, ax = plt.subplots(1, figsize=(10,7))\n",
    "plt.plot(makro_acc, equal_odds_mse)\n",
    "plt.xlabel(\"Makro accuracy\")\n",
    "plt.ylabel(\"Mean squerred difference in equalized odds\")"
   ]
  },
  {
   "cell_type": "code",
   "execution_count": null,
   "id": "a8dbec9f",
   "metadata": {},
   "outputs": [],
   "source": []
  },
  {
   "cell_type": "markdown",
   "id": "8adcbeb0",
   "metadata": {},
   "source": [
    "# LogisticRegression\n",
    "## Baseline model"
   ]
  },
  {
   "cell_type": "code",
   "execution_count": 32,
   "id": "fbb8b3f1",
   "metadata": {},
   "outputs": [],
   "source": [
    "X, y = data_full.drop(columns=y_cols+index_cols), data_y[\"HighCrime\"]"
   ]
  },
  {
   "cell_type": "code",
   "execution_count": 33,
   "id": "2d09ef7a",
   "metadata": {},
   "outputs": [],
   "source": [
    "kfold = KFold(n_splits=5, shuffle=True, random_state=1)\n",
    "\n",
    "\n",
    "model = LogisticRegression\n",
    "model_params = {\"max_iter\":500, \"random_state\":1}\n",
    "\n",
    "preds = test_model(model, X, y, kfold, model_params=model_params)"
   ]
  },
  {
   "cell_type": "markdown",
   "id": "9a5ca3c5",
   "metadata": {},
   "source": [
    "### Equalized odds regarding black ratio"
   ]
  },
  {
   "cell_type": "code",
   "execution_count": 34,
   "id": "f0e1a125",
   "metadata": {},
   "outputs": [
    {
     "data": {
      "image/png": "[encoded data removed]",
      "text/plain": [
       "<Figure size 432x288 with 1 Axes>"
      ]
     },
     "metadata": {
      "needs_background": "light"
     },
     "output_type": "display_data"
    }
   ],
   "source": [
    "# Get scores for predominatly black areas\n",
    "recall, fpr = equalized_odds(data_y.HighCrime.values[IsBlack], preds[IsBlack])\n",
    "tmp_df_1 = pd.DataFrame({\"metric\":[\"recall\", \"fpr\"], \"score\":[recall, fpr], \"IsBlack\":[True, True]})\n",
    "\n",
    "# Get scores for non predominatly black areas\n",
    "recall, fpr = equalized_odds(data_y.HighCrime.values[~IsBlack], preds[~IsBlack])\n",
    "tmp_df_2 = pd.DataFrame({\"metric\":[\"recall\", \"fpr\"], \"score\":[recall, fpr], \"IsBlack\":[False, False]})\n",
    "\n",
    "# Concat results\n",
    "tmp_df = pd.concat([tmp_df_1, tmp_df_2])\n",
    "\n",
    "sns.barplot(data=tmp_df, x=\"metric\", y=\"score\", hue=\"IsBlack\")\n",
    "plt.show()"
   ]
  },
  {
   "cell_type": "code",
   "execution_count": 35,
   "id": "e9e01452",
   "metadata": {},
   "outputs": [
    {
     "name": "stdout",
     "output_type": "stream",
     "text": [
      "              precision    recall  f1-score   support\n",
      "\n",
      "           0       0.91      0.96      0.93      1620\n",
      "           1       0.76      0.57      0.65       374\n",
      "\n",
      "    accuracy                           0.89      1994\n",
      "   macro avg       0.83      0.76      0.79      1994\n",
      "weighted avg       0.88      0.89      0.88      1994\n",
      "\n"
     ]
    }
   ],
   "source": [
    "print(classification_report(y, preds))"
   ]
  },
  {
   "cell_type": "code",
   "execution_count": 36,
   "id": "7376f8de",
   "metadata": {},
   "outputs": [
    {
     "data": {
      "text/plain": [
       "0.7549019607843137"
      ]
     },
     "execution_count": 36,
     "metadata": {},
     "output_type": "execute_result"
    }
   ],
   "source": [
    "accuracy_score(data_y.HighCrime.values[IsBlack], preds[IsBlack])"
   ]
  },
  {
   "cell_type": "code",
   "execution_count": 37,
   "id": "4555a9ba",
   "metadata": {},
   "outputs": [
    {
     "data": {
      "text/plain": [
       "0.909952606635071"
      ]
     },
     "execution_count": 37,
     "metadata": {},
     "output_type": "execute_result"
    }
   ],
   "source": [
    "accuracy_score(data_y.HighCrime.values[~IsBlack], preds[~IsBlack])"
   ]
  },
  {
   "cell_type": "code",
   "execution_count": 38,
   "id": "d2c5b8c3",
   "metadata": {},
   "outputs": [
    {
     "data": {
      "text/plain": [
       "(194, 195.0)"
      ]
     },
     "execution_count": 38,
     "metadata": {},
     "output_type": "execute_result"
    }
   ],
   "source": [
    "np.sum(data_y.HighCrime.values[IsBlack]), np.sum(preds[IsBlack])"
   ]
  },
  {
   "cell_type": "code",
   "execution_count": 39,
   "id": "d40f783f",
   "metadata": {},
   "outputs": [
    {
     "data": {
      "text/plain": [
       "(180, 84.0)"
      ]
     },
     "execution_count": 39,
     "metadata": {},
     "output_type": "execute_result"
    }
   ],
   "source": [
    "np.sum(data_y.HighCrime.values[~IsBlack]), np.sum(preds[~IsBlack])"
   ]
  },
  {
   "cell_type": "markdown",
   "id": "3d425722",
   "metadata": {},
   "source": [
    "## Debias data baseline (logreg)"
   ]
  },
  {
   "cell_type": "code",
   "execution_count": 40,
   "id": "95b1d8b4",
   "metadata": {},
   "outputs": [],
   "source": [
    "from src.debias_data import debais_data"
   ]
  },
  {
   "cell_type": "code",
   "execution_count": 41,
   "id": "f4d60b94",
   "metadata": {},
   "outputs": [],
   "source": [
    "y_cols = [\"ViolentCrimesPerPop\", \"HighCrime\"]\n",
    "protected_cols = [\"racepctblack\",\n",
    "                      \"racePctWhite\", \"racePctAsian\", \"racePctHisp\"]\n",
    "index_cols = [\"IsBlack\"]\n",
    "nonprotected_cols = [col for col in data_full.columns if col not in protected_cols + y_cols + index_cols]"
   ]
  },
  {
   "cell_type": "code",
   "execution_count": 42,
   "id": "afdfc56f",
   "metadata": {},
   "outputs": [],
   "source": [
    "# Initialize X (with out the label or the index columns)\n",
    "X, y = data_full.drop(columns=y_cols+index_cols), data_y[\"HighCrime\"]"
   ]
  },
  {
   "cell_type": "code",
   "execution_count": 43,
   "id": "eb4258be",
   "metadata": {},
   "outputs": [],
   "source": [
    "# Initialize the scaling and debiasing function\n",
    "l_value = 0.0\n",
    "scaler = debais_data(protected_cols, nonprotected_cols, lambda_=l_value)"
   ]
  },
  {
   "cell_type": "code",
   "execution_count": 44,
   "id": "ad456cfb",
   "metadata": {},
   "outputs": [],
   "source": [
    "kfold = KFold(n_splits=5, shuffle=True, random_state=1)\n",
    "\n",
    "model = LogisticRegression\n",
    "model_params = {\"max_iter\":500, \"random_state\":1}\n",
    "\n",
    "preds = test_model(model, X, y, kfold,scaler=scaler, model_params=model_params)"
   ]
  },
  {
   "cell_type": "markdown",
   "id": "620eda4c",
   "metadata": {},
   "source": [
    "### Equalized odds regarding black ratio with unbias data"
   ]
  },
  {
   "cell_type": "code",
   "execution_count": 45,
   "id": "4128b58f",
   "metadata": {},
   "outputs": [
    {
     "data": {
      "image/png": "[encoded data removed]",
      "text/plain": [
       "<Figure size 432x288 with 1 Axes>"
      ]
     },
     "metadata": {
      "needs_background": "light"
     },
     "output_type": "display_data"
    }
   ],
   "source": [
    "# Get scores for predominatly black areas\n",
    "recall, fpr = equalized_odds(data_y.HighCrime.values[IsBlack], preds[IsBlack])\n",
    "tmp_df_1 = pd.DataFrame({\"metric\":[\"recall\", \"fpr\"], \"score\":[recall, fpr], \"IsBlack\":[True, True]})\n",
    "\n",
    "# Get scores for non predominatly black areas\n",
    "recall, fpr = equalized_odds(data_y.HighCrime.values[~IsBlack], preds[~IsBlack])\n",
    "tmp_df_2 = pd.DataFrame({\"metric\":[\"recall\", \"fpr\"], \"score\":[recall, fpr], \"IsBlack\":[False, False]})\n",
    "\n",
    "# Concat results\n",
    "tmp_df = pd.concat([tmp_df_1, tmp_df_2])\n",
    "\n",
    "sns.barplot(data=tmp_df, x=\"metric\", y=\"score\", hue=\"IsBlack\")\n",
    "plt.show()"
   ]
  },
  {
   "cell_type": "code",
   "execution_count": 46,
   "id": "967950fb",
   "metadata": {},
   "outputs": [
    {
     "name": "stdout",
     "output_type": "stream",
     "text": [
      "              precision    recall  f1-score   support\n",
      "\n",
      "           0       0.84      0.97      0.90      1620\n",
      "           1       0.65      0.21      0.32       374\n",
      "\n",
      "    accuracy                           0.83      1994\n",
      "   macro avg       0.75      0.59      0.61      1994\n",
      "weighted avg       0.81      0.83      0.79      1994\n",
      "\n"
     ]
    }
   ],
   "source": [
    "print(classification_report(y, preds))"
   ]
  },
  {
   "cell_type": "code",
   "execution_count": 47,
   "id": "d8623357",
   "metadata": {},
   "outputs": [
    {
     "data": {
      "text/plain": [
       "0.477124183006536"
      ]
     },
     "execution_count": 47,
     "metadata": {},
     "output_type": "execute_result"
    }
   ],
   "source": [
    "accuracy_score(data_y.HighCrime.values[IsBlack], preds[IsBlack])"
   ]
  },
  {
   "cell_type": "code",
   "execution_count": 48,
   "id": "c28eda10",
   "metadata": {},
   "outputs": [
    {
     "data": {
      "text/plain": [
       "0.8951421800947867"
      ]
     },
     "execution_count": 48,
     "metadata": {},
     "output_type": "execute_result"
    }
   ],
   "source": [
    "accuracy_score(data_y.HighCrime.values[~IsBlack], preds[~IsBlack])"
   ]
  },
  {
   "cell_type": "code",
   "execution_count": 49,
   "id": "8ba7f215",
   "metadata": {},
   "outputs": [
    {
     "data": {
      "text/plain": [
       "(194, 42.0)"
      ]
     },
     "execution_count": 49,
     "metadata": {},
     "output_type": "execute_result"
    }
   ],
   "source": [
    "np.sum(data_y.HighCrime.values[IsBlack]), np.sum(preds[IsBlack])"
   ]
  },
  {
   "cell_type": "code",
   "execution_count": 50,
   "id": "42466060",
   "metadata": {},
   "outputs": [
    {
     "data": {
      "text/plain": [
       "(180, 79.0)"
      ]
     },
     "execution_count": 50,
     "metadata": {},
     "output_type": "execute_result"
    }
   ],
   "source": [
    "np.sum(data_y.HighCrime.values[~IsBlack]), np.sum(preds[~IsBlack])"
   ]
  },
  {
   "cell_type": "markdown",
   "id": "7530c1d8",
   "metadata": {},
   "source": [
    "# Lambda loop"
   ]
  },
  {
   "cell_type": "code",
   "execution_count": 51,
   "id": "58891a94",
   "metadata": {},
   "outputs": [],
   "source": [
    "from tqdm import tqdm"
   ]
  },
  {
   "cell_type": "code",
   "execution_count": 52,
   "id": "058ffeb8",
   "metadata": {},
   "outputs": [],
   "source": [
    "y_cols = [\"ViolentCrimesPerPop\", \"HighCrime\"]\n",
    "protected_cols = [\"racepctblack\",\n",
    "                      \"racePctWhite\", \"racePctAsian\", \"racePctHisp\"]\n",
    "index_cols = [\"IsBlack\"]\n",
    "nonprotected_cols = [col for col in data_full.columns if col not in protected_cols + y_cols + index_cols]"
   ]
  },
  {
   "cell_type": "code",
   "execution_count": 53,
   "id": "b1551cfa",
   "metadata": {},
   "outputs": [],
   "source": [
    "# Initialize X (with out the label or the index columns)\n",
    "X, y = data_full.drop(columns=y_cols+index_cols), data_y[\"HighCrime\"]"
   ]
  },
  {
   "cell_type": "code",
   "execution_count": 54,
   "id": "ef299c9c",
   "metadata": {},
   "outputs": [],
   "source": [
    "lambda_values = np.linspace(0,1,30)"
   ]
  },
  {
   "cell_type": "code",
   "execution_count": 55,
   "id": "bc873d8b",
   "metadata": {},
   "outputs": [
    {
     "name": "stderr",
     "output_type": "stream",
     "text": [
      "100%|██████████████████████████████████████████████████████████████████████████████████████████████████████████████████████████████████| 30/30 [01:54<00:00,  3.81s/it]\n"
     ]
    }
   ],
   "source": [
    "predictions = {}\n",
    "result_metrics = {}\n",
    "for l_value in tqdm(lambda_values):\n",
    "    scaler = debais_data(protected_cols, nonprotected_cols, lambda_=l_value)\n",
    "    kfold = KFold(n_splits=5, shuffle=True, random_state=1)\n",
    "\n",
    "    model = LogisticRegression\n",
    "    model_params = {\"max_iter\":500, \"random_state\":1}\n",
    "\n",
    "    preds = test_model(model, X, y, kfold,scaler=scaler, model_params=model_params)\n",
    "    predictions[f\"{l_value:.2f}\"] = preds\n",
    "    \n",
    "    acc_black = accuracy_score(data_y.HighCrime.values[IsBlack], preds[IsBlack])\n",
    "    acc_non_black = accuracy_score(data_y.HighCrime.values[~IsBlack], preds[~IsBlack])\n",
    "    recall_black, fpr_black = equalized_odds(data_y.HighCrime.values[IsBlack], preds[IsBlack])\n",
    "    recall_non_black, fpr_non_black = equalized_odds(data_y.HighCrime.values[~IsBlack], preds[~IsBlack])\n",
    "    num_high_black = np.sum(data_y.HighCrime.values[IsBlack]), np.sum(preds[IsBlack])\n",
    "    num_highn_non_black = np.sum(data_y.HighCrime.values[~IsBlack]), np.sum(preds[~IsBlack])\n",
    "    result_metrics[f\"{l_value:.2f}\"] = {\"acc_black\":acc_black,\n",
    "                                        \"acc_non_black\": acc_non_black,\n",
    "                                        \"recall_black\":recall_black, \n",
    "                                        \"recall_non_black\":recall_non_black,\n",
    "                                         \"fpr_black\": fpr_black,\n",
    "                                         \"fpr_non_black\": fpr_non_black,\n",
    "                                        \"num_high_black\":num_high_black,\n",
    "                                       \"num_highn_non_black\":num_highn_non_black}"
   ]
  },
  {
   "cell_type": "code",
   "execution_count": 56,
   "id": "daff69a4",
   "metadata": {},
   "outputs": [],
   "source": [
    "makro_acc = []\n",
    "equal_odds_mse = []\n",
    "for key, res in result_metrics.items():\n",
    "    m_acc = (res[\"acc_black\"] + res[\"acc_non_black\"])/2\n",
    "    se_recall = (res[\"recall_black\"]**2 - res[\"recall_non_black\"]**2)\n",
    "    se_fpr = (res[\"fpr_black\"]**2 - res[\"fpr_non_black\"]**2)\n",
    "    mse_total = (se_recall + se_fpr)/2\n",
    "    \n",
    "    makro_acc.append(m_acc)\n",
    "    equal_odds_mse.append(mse_total)"
   ]
  },
  {
   "cell_type": "code",
   "execution_count": 57,
   "id": "58108690",
   "metadata": {},
   "outputs": [
    {
     "data": {
      "text/plain": [
       "Text(0, 0.5, 'Mean squerred difference in equalized odds')"
      ]
     },
     "execution_count": 57,
     "metadata": {},
     "output_type": "execute_result"
    },
    {
     "data": {
      "image/png": "[encoded data removed]",
      "text/plain": [
       "<Figure size 720x504 with 1 Axes>"
      ]
     },
     "metadata": {
      "needs_background": "light"
     },
     "output_type": "display_data"
    }
   ],
   "source": [
    "fig, ax = plt.subplots(1, figsize=(10,7))\n",
    "plt.plot(makro_acc, equal_odds_mse)\n",
    "plt.xlabel(\"Makro accuracy\")\n",
    "plt.ylabel(\"Mean squerred difference in equalized odds\")"
   ]
  },
  {
   "cell_type": "code",
   "execution_count": null,
   "id": "328bd9f8",
   "metadata": {},
   "outputs": [],
   "source": []
  }
 ],
 "metadata": {
  "kernelspec": {
   "display_name": "Python 3 (ipykernel)",
   "language": "python",
   "name": "python3"
  },
  "language_info": {
   "codemirror_mode": {
    "name": "ipython",
    "version": 3
   },
   "file_extension": ".py",
   "mimetype": "text/x-python",
   "name": "python",
   "nbconvert_exporter": "python",
   "pygments_lexer": "ipython3",
   "version": "3.9.7"
  },
  "latex_envs": {
   "LaTeX_envs_menu_present": true,
   "autoclose": false,
   "autocomplete": true,
   "bibliofile": "biblio.bib",
   "cite_by": "apalike",
   "current_citInitial": 1,
   "eqLabelWithNumbers": true,
   "eqNumInitial": 1,
   "hotkeys": {
    "equation": "Ctrl-E",
    "itemize": "Ctrl-I"
   },
   "labels_anchors": false,
   "latex_user_defs": false,
   "report_style_numbering": false,
   "user_envs_cfg": false
  }
 },
 "nbformat": 4,
 "nbformat_minor": 5
}
