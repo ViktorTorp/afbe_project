{
 "cells": [
  {
   "cell_type": "code",
   "execution_count": 1,
   "id": "60ca217b",
   "metadata": {},
   "outputs": [],
   "source": [
    "import numpy as np\n",
    "import pandas as pd\n",
    "import matplotlib.pyplot as plt\n",
    "import seaborn as sns\n",
    "from sklearn.linear_model import LogisticRegression, LinearRegression\n",
    "from sklearn.model_selection import KFold, StratifiedKFold\n",
    "\n",
    "from sklearn import preprocessing\n",
    "from sklearn.metrics import classification_report, accuracy_score\n",
    "from src.model_selection import test_model\n",
    "from sklearn.metrics import confusion_matrix, mean_squared_error\n",
    "from scipy.stats import pearsonr"
   ]
  },
  {
   "cell_type": "code",
   "execution_count": 2,
   "id": "62a2455f",
   "metadata": {},
   "outputs": [],
   "source": [
    "col_names = pd.read_csv(\"communities_names.csv\", header = None)\n",
    "list_of_column_names = []\n",
    "\n",
    "for index, row_data in col_names.iterrows():\n",
    "    list_of_column_names.append(str(row_data[0]))\n",
    "\n",
    "df = pd.read_csv(\"communities_data.csv\", names = list_of_column_names)"
   ]
  },
  {
   "cell_type": "code",
   "execution_count": 3,
   "id": "fbba701c",
   "metadata": {},
   "outputs": [],
   "source": [
    "target = \"ViolentCrimesPerPop\""
   ]
  },
  {
   "cell_type": "code",
   "execution_count": 4,
   "id": "8f70b515",
   "metadata": {},
   "outputs": [
    {
     "data": {
      "text/html": [
       "<div>\n",
       "<style scoped>\n",
       "    .dataframe tbody tr th:only-of-type {\n",
       "        vertical-align: middle;\n",
       "    }\n",
       "\n",
       "    .dataframe tbody tr th {\n",
       "        vertical-align: top;\n",
       "    }\n",
       "\n",
       "    .dataframe thead th {\n",
       "        text-align: right;\n",
       "    }\n",
       "</style>\n",
       "<table border=\"1\" class=\"dataframe\">\n",
       "  <thead>\n",
       "    <tr style=\"text-align: right;\">\n",
       "      <th></th>\n",
       "      <th>state</th>\n",
       "      <th>county</th>\n",
       "      <th>community</th>\n",
       "      <th>communityname</th>\n",
       "      <th>fold</th>\n",
       "      <th>population</th>\n",
       "      <th>householdsize</th>\n",
       "      <th>racepctblack</th>\n",
       "      <th>racePctWhite</th>\n",
       "      <th>racePctAsian</th>\n",
       "      <th>...</th>\n",
       "      <th>LandArea</th>\n",
       "      <th>PopDens</th>\n",
       "      <th>PctUsePubTrans</th>\n",
       "      <th>PolicCars</th>\n",
       "      <th>PolicOperBudg</th>\n",
       "      <th>LemasPctPolicOnPatr</th>\n",
       "      <th>LemasGangUnitDeploy</th>\n",
       "      <th>LemasPctOfficDrugUn</th>\n",
       "      <th>PolicBudgPerPop</th>\n",
       "      <th>ViolentCrimesPerPop</th>\n",
       "    </tr>\n",
       "  </thead>\n",
       "  <tbody>\n",
       "    <tr>\n",
       "      <th>0</th>\n",
       "      <td>8</td>\n",
       "      <td>?</td>\n",
       "      <td>?</td>\n",
       "      <td>Lakewoodcity</td>\n",
       "      <td>1</td>\n",
       "      <td>0.19</td>\n",
       "      <td>0.33</td>\n",
       "      <td>0.02</td>\n",
       "      <td>0.90</td>\n",
       "      <td>0.12</td>\n",
       "      <td>...</td>\n",
       "      <td>0.12</td>\n",
       "      <td>0.26</td>\n",
       "      <td>0.20</td>\n",
       "      <td>0.06</td>\n",
       "      <td>0.04</td>\n",
       "      <td>0.9</td>\n",
       "      <td>0.5</td>\n",
       "      <td>0.32</td>\n",
       "      <td>0.14</td>\n",
       "      <td>0.20</td>\n",
       "    </tr>\n",
       "    <tr>\n",
       "      <th>1</th>\n",
       "      <td>53</td>\n",
       "      <td>?</td>\n",
       "      <td>?</td>\n",
       "      <td>Tukwilacity</td>\n",
       "      <td>1</td>\n",
       "      <td>0.00</td>\n",
       "      <td>0.16</td>\n",
       "      <td>0.12</td>\n",
       "      <td>0.74</td>\n",
       "      <td>0.45</td>\n",
       "      <td>...</td>\n",
       "      <td>0.02</td>\n",
       "      <td>0.12</td>\n",
       "      <td>0.45</td>\n",
       "      <td>?</td>\n",
       "      <td>?</td>\n",
       "      <td>?</td>\n",
       "      <td>?</td>\n",
       "      <td>0.00</td>\n",
       "      <td>?</td>\n",
       "      <td>0.67</td>\n",
       "    </tr>\n",
       "    <tr>\n",
       "      <th>2</th>\n",
       "      <td>24</td>\n",
       "      <td>?</td>\n",
       "      <td>?</td>\n",
       "      <td>Aberdeentown</td>\n",
       "      <td>1</td>\n",
       "      <td>0.00</td>\n",
       "      <td>0.42</td>\n",
       "      <td>0.49</td>\n",
       "      <td>0.56</td>\n",
       "      <td>0.17</td>\n",
       "      <td>...</td>\n",
       "      <td>0.01</td>\n",
       "      <td>0.21</td>\n",
       "      <td>0.02</td>\n",
       "      <td>?</td>\n",
       "      <td>?</td>\n",
       "      <td>?</td>\n",
       "      <td>?</td>\n",
       "      <td>0.00</td>\n",
       "      <td>?</td>\n",
       "      <td>0.43</td>\n",
       "    </tr>\n",
       "    <tr>\n",
       "      <th>3</th>\n",
       "      <td>34</td>\n",
       "      <td>5</td>\n",
       "      <td>81440</td>\n",
       "      <td>Willingborotownship</td>\n",
       "      <td>1</td>\n",
       "      <td>0.04</td>\n",
       "      <td>0.77</td>\n",
       "      <td>1.00</td>\n",
       "      <td>0.08</td>\n",
       "      <td>0.12</td>\n",
       "      <td>...</td>\n",
       "      <td>0.02</td>\n",
       "      <td>0.39</td>\n",
       "      <td>0.28</td>\n",
       "      <td>?</td>\n",
       "      <td>?</td>\n",
       "      <td>?</td>\n",
       "      <td>?</td>\n",
       "      <td>0.00</td>\n",
       "      <td>?</td>\n",
       "      <td>0.12</td>\n",
       "    </tr>\n",
       "    <tr>\n",
       "      <th>4</th>\n",
       "      <td>42</td>\n",
       "      <td>95</td>\n",
       "      <td>6096</td>\n",
       "      <td>Bethlehemtownship</td>\n",
       "      <td>1</td>\n",
       "      <td>0.01</td>\n",
       "      <td>0.55</td>\n",
       "      <td>0.02</td>\n",
       "      <td>0.95</td>\n",
       "      <td>0.09</td>\n",
       "      <td>...</td>\n",
       "      <td>0.04</td>\n",
       "      <td>0.09</td>\n",
       "      <td>0.02</td>\n",
       "      <td>?</td>\n",
       "      <td>?</td>\n",
       "      <td>?</td>\n",
       "      <td>?</td>\n",
       "      <td>0.00</td>\n",
       "      <td>?</td>\n",
       "      <td>0.03</td>\n",
       "    </tr>\n",
       "  </tbody>\n",
       "</table>\n",
       "<p>5 rows × 128 columns</p>\n",
       "</div>"
      ],
      "text/plain": [
       "   state county community        communityname  fold  population  \\\n",
       "0      8      ?         ?         Lakewoodcity     1        0.19   \n",
       "1     53      ?         ?          Tukwilacity     1        0.00   \n",
       "2     24      ?         ?         Aberdeentown     1        0.00   \n",
       "3     34      5     81440  Willingborotownship     1        0.04   \n",
       "4     42     95      6096    Bethlehemtownship     1        0.01   \n",
       "\n",
       "   householdsize  racepctblack  racePctWhite  racePctAsian  ...  LandArea  \\\n",
       "0           0.33          0.02          0.90          0.12  ...      0.12   \n",
       "1           0.16          0.12          0.74          0.45  ...      0.02   \n",
       "2           0.42          0.49          0.56          0.17  ...      0.01   \n",
       "3           0.77          1.00          0.08          0.12  ...      0.02   \n",
       "4           0.55          0.02          0.95          0.09  ...      0.04   \n",
       "\n",
       "   PopDens  PctUsePubTrans  PolicCars  PolicOperBudg  LemasPctPolicOnPatr  \\\n",
       "0     0.26            0.20       0.06           0.04                  0.9   \n",
       "1     0.12            0.45          ?              ?                    ?   \n",
       "2     0.21            0.02          ?              ?                    ?   \n",
       "3     0.39            0.28          ?              ?                    ?   \n",
       "4     0.09            0.02          ?              ?                    ?   \n",
       "\n",
       "   LemasGangUnitDeploy  LemasPctOfficDrugUn  PolicBudgPerPop  \\\n",
       "0                  0.5                 0.32             0.14   \n",
       "1                    ?                 0.00                ?   \n",
       "2                    ?                 0.00                ?   \n",
       "3                    ?                 0.00                ?   \n",
       "4                    ?                 0.00                ?   \n",
       "\n",
       "   ViolentCrimesPerPop  \n",
       "0                 0.20  \n",
       "1                 0.67  \n",
       "2                 0.43  \n",
       "3                 0.12  \n",
       "4                 0.03  \n",
       "\n",
       "[5 rows x 128 columns]"
      ]
     },
     "metadata": {},
     "output_type": "display_data"
    },
    {
     "data": {
      "text/plain": [
       "0    0.20\n",
       "1    0.67\n",
       "2    0.43\n",
       "3    0.12\n",
       "4    0.03\n",
       "Name: ViolentCrimesPerPop, dtype: float64"
      ]
     },
     "execution_count": 4,
     "metadata": {},
     "output_type": "execute_result"
    }
   ],
   "source": [
    "display(df.head())\n",
    "df.head()[target]"
   ]
  },
  {
   "cell_type": "code",
   "execution_count": null,
   "id": "890a2047",
   "metadata": {},
   "outputs": [],
   "source": []
  },
  {
   "cell_type": "code",
   "execution_count": 5,
   "id": "265000fb",
   "metadata": {},
   "outputs": [
    {
     "data": {
      "text/plain": [
       "[<matplotlib.lines.Line2D at 0x7fe23ceeaa60>]"
      ]
     },
     "execution_count": 5,
     "metadata": {},
     "output_type": "execute_result"
    },
    {
     "data": {
      "image/png": "[encoded data removed]",
      "text/plain": [
       "<Figure size 432x288 with 1 Axes>"
      ]
     },
     "metadata": {
      "needs_background": "light"
     },
     "output_type": "display_data"
    }
   ],
   "source": [
    "plt.scatter(df[target], df[\"racepctblack\"])\n",
    "c, p = pearsonr(df[target], df[\"racepctblack\"])\n",
    "plt.plot([0,c])"
   ]
  },
  {
   "cell_type": "code",
   "execution_count": 6,
   "id": "2aeeae3e",
   "metadata": {},
   "outputs": [
    {
     "data": {
      "text/plain": [
       "[<matplotlib.lines.Line2D at 0x7fe23d12f760>]"
      ]
     },
     "execution_count": 6,
     "metadata": {},
     "output_type": "execute_result"
    },
    {
     "data": {
      "image/png": "[encoded data removed]",
      "text/plain": [
       "<Figure size 432x288 with 1 Axes>"
      ]
     },
     "metadata": {
      "needs_background": "light"
     },
     "output_type": "display_data"
    }
   ],
   "source": [
    "plt.scatter(df[target], df[\"racePctWhite\"])\n",
    "c, p = pearsonr(df[target], df[\"racePctWhite\"])\n",
    "plt.plot([1,1+c])"
   ]
  },
  {
   "cell_type": "code",
   "execution_count": 7,
   "id": "505c6f6f",
   "metadata": {},
   "outputs": [],
   "source": [
    "from src.processing import import_data\n",
    "from src.model_selection import test_model"
   ]
  },
  {
   "cell_type": "code",
   "execution_count": 8,
   "id": "e2263c4e",
   "metadata": {},
   "outputs": [],
   "source": [
    "data_init, data_full, data, data_protected, data_y = import_data()"
   ]
  },
  {
   "cell_type": "code",
   "execution_count": 9,
   "id": "2c6eb4b4",
   "metadata": {},
   "outputs": [
    {
     "data": {
      "text/plain": [
       "<seaborn.axisgrid.FacetGrid at 0x7fe23d070520>"
      ]
     },
     "execution_count": 9,
     "metadata": {},
     "output_type": "execute_result"
    },
    {
     "data": {
      "image/png": "[encoded data removed]",
      "text/plain": [
       "<Figure size 420.75x360 with 1 Axes>"
      ]
     },
     "metadata": {
      "needs_background": "light"
     },
     "output_type": "display_data"
    }
   ],
   "source": [
    "sns.displot(data=data_full, x=\"racepctblack\", hue=\"HighCrime\")"
   ]
  },
  {
   "cell_type": "code",
   "execution_count": 10,
   "id": "3a5cb911",
   "metadata": {},
   "outputs": [
    {
     "data": {
      "text/plain": [
       "<seaborn.axisgrid.FacetGrid at 0x7fe23d070eb0>"
      ]
     },
     "execution_count": 10,
     "metadata": {},
     "output_type": "execute_result"
    },
    {
     "data": {
      "image/png": "[encoded data removed]",
      "text/plain": [
       "<Figure size 420.75x360 with 1 Axes>"
      ]
     },
     "metadata": {
      "needs_background": "light"
     },
     "output_type": "display_data"
    }
   ],
   "source": [
    "sns.displot(data=data_full, x=\"racePctWhite\", hue=\"HighCrime\")"
   ]
  },
  {
   "cell_type": "markdown",
   "id": "04e417ba",
   "metadata": {},
   "source": [
    "# Testing test model with Logistig regression on high crimerate"
   ]
  },
  {
   "cell_type": "code",
   "execution_count": 11,
   "id": "e22e478a",
   "metadata": {},
   "outputs": [],
   "source": [
    "def scaling_func(scaling_obj):\n",
    "    def scale(x_train, x_test):\n",
    "        scaler = scaling_obj().fit(x_train)\n",
    "        return scaler.transform(x_train), scaler.transform(x_test)\n",
    "    return scale"
   ]
  },
  {
   "cell_type": "code",
   "execution_count": 12,
   "id": "b0395f6a",
   "metadata": {},
   "outputs": [],
   "source": [
    "X, y = data, data_y[\"HighCrime\"]\n",
    "\n",
    "kfold = KFold(n_splits=5, shuffle=True, random_state=1)\n",
    "\n",
    "scaler = scaling_func(preprocessing.StandardScaler)\n",
    "\n",
    "model = LogisticRegression\n",
    "model_params = {\"random_state\":1, \"max_iter\":500}\n",
    "\n",
    "preds = test_model(model, X, y, kfold, scaler=scaler,model_params=model_params)"
   ]
  },
  {
   "cell_type": "markdown",
   "id": "bf121030",
   "metadata": {},
   "source": [
    "# Evaluation system\n",
    "## How to calculate equalized odds\n",
    "\n",
    "Recall and precision deffs https://towardsdatascience.com/accuracy-recall-precision-f-score-specificity-which-to-optimize-on-867d3f11124\n",
    "\n",
    "The two elements of equalized odds\n",
    "\n",
    "$tp / (tp+fn)$ # recall\n",
    "\n",
    "$fp/(tn+fp)$ # false positive ratio\n",
    "\n",
    "\n",
    "``` python\n",
    "\n",
    "def calc_recall(tp,fn):\n",
    "    \"\"\"\n",
    "    True positive rate (TPR, also called sensitivity) \n",
    "    \"\"\"\n",
    "    return tp/(tp+fn)\n",
    "def calc_fpr(tn,fp):\n",
    "    \"\"\"\n",
    "    False positive rate (also known as fall-out or false alarm ratio) \n",
    "    \"\"\"\n",
    "    return fp/(tn+fp)\n",
    "\n",
    "def equalized_odds(y_true, y_pred):\n",
    "    tn, fp, fn, tp  = confusion_matrix(y_true, y_pred).ravel()\n",
    "    recall = calc_recall(tp,fn)\n",
    "    fpr = calc_fpr(tn,fp)\n",
    "    return recall, fpr\n",
    "\n",
    "```"
   ]
  },
  {
   "cell_type": "code",
   "execution_count": 13,
   "id": "2a66006e",
   "metadata": {},
   "outputs": [],
   "source": [
    "from src.metrics import equalized_odds"
   ]
  },
  {
   "cell_type": "code",
   "execution_count": 14,
   "id": "a1da8dfa",
   "metadata": {},
   "outputs": [],
   "source": [
    "IsBlack = data_full.IsBlack == 1"
   ]
  },
  {
   "cell_type": "code",
   "execution_count": 15,
   "id": "6daf963c",
   "metadata": {},
   "outputs": [],
   "source": [
    "IsWhite = data_full.racePctWhite >= 0.75"
   ]
  },
  {
   "cell_type": "markdown",
   "id": "2ed23cd4",
   "metadata": {},
   "source": [
    "### Equalized odds regarding black ratio"
   ]
  },
  {
   "cell_type": "code",
   "execution_count": 16,
   "id": "eb3fb1c8",
   "metadata": {},
   "outputs": [
    {
     "data": {
      "image/png": "[encoded data removed]",
      "text/plain": [
       "<Figure size 432x288 with 1 Axes>"
      ]
     },
     "metadata": {
      "needs_background": "light"
     },
     "output_type": "display_data"
    }
   ],
   "source": [
    "# Get scores for predominatly black areas\n",
    "recall, fpr = equalized_odds(data_y.HighCrime.values[IsBlack], preds[IsBlack])\n",
    "tmp_df_1 = pd.DataFrame({\"metric\":[\"recall\", \"fpr\"], \"score\":[recall, fpr], \"IsBlack\":[True, True]})\n",
    "\n",
    "# Get scores for non predominatly black areas\n",
    "recall, fpr = equalized_odds(data_y.HighCrime.values[~IsBlack], preds[~IsBlack])\n",
    "tmp_df_2 = pd.DataFrame({\"metric\":[\"recall\", \"fpr\"], \"score\":[recall, fpr], \"IsBlack\":[False, False]})\n",
    "\n",
    "# Concat results\n",
    "tmp_df = pd.concat([tmp_df_1, tmp_df_2])\n",
    "\n",
    "sns.barplot(data=tmp_df, x=\"metric\", y=\"score\", hue=\"IsBlack\")\n",
    "plt.show()"
   ]
  },
  {
   "cell_type": "code",
   "execution_count": 17,
   "id": "d761760c",
   "metadata": {},
   "outputs": [],
   "source": [
    "def autolabel(rects, axis):\n",
    "    \"\"\"Attach a text label above each bar in *rects*, displaying its height.\"\"\"\n",
    "    for rect in rects:\n",
    "        height = rect.get_height()\n",
    "        axis.annotate('{}'.format(height),\n",
    "                    xy=(rect.get_x() + rect.get_width() / 2, height),\n",
    "                    xytext=(0, 3),  # 3 points vertical offset\n",
    "                    textcoords=\"offset points\",\n",
    "                    ha='center', va='bottom')"
   ]
  },
  {
   "cell_type": "code",
   "execution_count": 18,
   "id": "e25c13a4",
   "metadata": {},
   "outputs": [
    {
     "name": "stdout",
     "output_type": "stream",
     "text": [
      "              precision    recall  f1-score   support\n",
      "\n",
      "           0       0.88      0.92      0.90      1411\n",
      "           1       0.79      0.70      0.74       583\n",
      "\n",
      "    accuracy                           0.86      1994\n",
      "   macro avg       0.83      0.81      0.82      1994\n",
      "weighted avg       0.85      0.86      0.85      1994\n",
      "\n"
     ]
    }
   ],
   "source": [
    "print(classification_report(y, preds))"
   ]
  },
  {
   "cell_type": "code",
   "execution_count": 19,
   "id": "d7e62fc8",
   "metadata": {},
   "outputs": [
    {
     "data": {
      "text/plain": [
       "0.7717908082408875"
      ]
     },
     "execution_count": 19,
     "metadata": {},
     "output_type": "execute_result"
    }
   ],
   "source": [
    "accuracy_score(data_y.HighCrime.values[IsBlack], preds[IsBlack])"
   ]
  },
  {
   "cell_type": "code",
   "execution_count": 20,
   "id": "b6e562b1",
   "metadata": {},
   "outputs": [
    {
     "data": {
      "text/plain": [
       "0.8958180484225972"
      ]
     },
     "execution_count": 20,
     "metadata": {},
     "output_type": "execute_result"
    }
   ],
   "source": [
    "accuracy_score(data_y.HighCrime.values[~IsBlack], preds[~IsBlack])"
   ]
  },
  {
   "cell_type": "code",
   "execution_count": 21,
   "id": "c7acada6",
   "metadata": {},
   "outputs": [
    {
     "data": {
      "text/plain": [
       "(395, 377.0)"
      ]
     },
     "execution_count": 21,
     "metadata": {},
     "output_type": "execute_result"
    }
   ],
   "source": [
    "np.sum(data_y.HighCrime.values[IsBlack]), np.sum(preds[IsBlack])"
   ]
  },
  {
   "cell_type": "code",
   "execution_count": 22,
   "id": "08cd6689",
   "metadata": {},
   "outputs": [
    {
     "data": {
      "text/plain": [
       "(188, 142.0)"
      ]
     },
     "execution_count": 22,
     "metadata": {},
     "output_type": "execute_result"
    }
   ],
   "source": [
    "np.sum(data_y.HighCrime.values[~IsBlack]), np.sum(preds[~IsBlack])"
   ]
  },
  {
   "cell_type": "markdown",
   "id": "357f5fd8",
   "metadata": {},
   "source": [
    "# Debias data"
   ]
  },
  {
   "cell_type": "code",
   "execution_count": 23,
   "id": "9fab5f20",
   "metadata": {},
   "outputs": [],
   "source": [
    "from src.debias_data import debias_data"
   ]
  },
  {
   "cell_type": "code",
   "execution_count": 24,
   "id": "c66c277e",
   "metadata": {},
   "outputs": [],
   "source": [
    "y_cols = [\"ViolentCrimesPerPop\", \"HighCrime\"]\n",
    "protected_cols = [\"racepctblack\",\n",
    "                      \"racePctWhite\", \"racePctAsian\", \"racePctHisp\"]\n",
    "index_cols = [\"IsBlack\"]\n",
    "nonprotected_cols = [col for col in data_full.columns if col not in protected_cols + y_cols + index_cols]"
   ]
  },
  {
   "cell_type": "code",
   "execution_count": 25,
   "id": "a70c50c1",
   "metadata": {},
   "outputs": [],
   "source": [
    "# Initialize X (with out the label or the index columns)\n",
    "X, y = data_full.drop(columns=y_cols+index_cols), data_y[\"HighCrime\"]"
   ]
  },
  {
   "cell_type": "code",
   "execution_count": 26,
   "id": "8641dc52",
   "metadata": {},
   "outputs": [],
   "source": [
    "# Initialize the scaling and debiasing function\n",
    "l_value = 0.05\n",
    "scaler = debias_data(protected_cols, nonprotected_cols, lambda_=l_value)"
   ]
  },
  {
   "cell_type": "code",
   "execution_count": 27,
   "id": "b5a864c9",
   "metadata": {},
   "outputs": [],
   "source": [
    "kfold = KFold(n_splits=5, shuffle=True, random_state=1)\n",
    "\n",
    "model = LogisticRegression\n",
    "model_params = {\"random_state\":1, \"max_iter\":500}\n",
    "\n",
    "preds = test_model(model, X, y, kfold, scaler=scaler,model_params=model_params)"
   ]
  },
  {
   "cell_type": "markdown",
   "id": "07bca9c3",
   "metadata": {},
   "source": [
    "### Equalized odds regarding black ratio with unbias data"
   ]
  },
  {
   "cell_type": "code",
   "execution_count": 28,
   "id": "848e1f2e",
   "metadata": {},
   "outputs": [
    {
     "data": {
      "image/png": "[encoded data removed]",
      "text/plain": [
       "<Figure size 432x288 with 1 Axes>"
      ]
     },
     "metadata": {
      "needs_background": "light"
     },
     "output_type": "display_data"
    }
   ],
   "source": [
    "# Get scores for predominatly black areas\n",
    "recall, fpr = equalized_odds(data_y.HighCrime.values[IsBlack], preds[IsBlack])\n",
    "tmp_df_1 = pd.DataFrame({\"metric\":[\"recall\", \"fpr\"], \"score\":[recall, fpr], \"IsBlack\":[True, True]})\n",
    "\n",
    "# Get scores for non predominatly black areas\n",
    "recall, fpr = equalized_odds(data_y.HighCrime.values[~IsBlack], preds[~IsBlack])\n",
    "tmp_df_2 = pd.DataFrame({\"metric\":[\"recall\", \"fpr\"], \"score\":[recall, fpr], \"IsBlack\":[False, False]})\n",
    "\n",
    "# Concat results\n",
    "tmp_df_reproject = pd.concat([tmp_df_1, tmp_df_2])\n",
    "\n",
    "sns.barplot(data=tmp_df_reproject, x=\"metric\", y=\"score\", hue=\"IsBlack\")\n",
    "plt.show()"
   ]
  },
  {
   "cell_type": "code",
   "execution_count": 49,
   "id": "61f84125",
   "metadata": {},
   "outputs": [
    {
     "data": {
      "image/png": "[encoded data removed]",
      "text/plain": [
       "<Figure size 792x360 with 2 Axes>"
      ]
     },
     "metadata": {
      "needs_background": "light"
     },
     "output_type": "display_data"
    }
   ],
   "source": [
    "# Plot equalized odds for black vs non-black neighbourhoods\n",
    "\n",
    "white_neig_eq_odds_before = np.round(tmp_df[tmp_df.IsBlack == 0].score.values,3)\n",
    "black_neig_eq_odds_before = np.round(tmp_df[tmp_df.IsBlack == 1].score.values,3)\n",
    "\n",
    "white_neig_eq_odds_after = np.round(tmp_df_reproject[tmp_df_reproject.IsBlack == 0].score.values,3)\n",
    "black_neig_eq_odds_after = np.round(tmp_df_reproject[tmp_df_reproject.IsBlack == 1].score.values,3)\n",
    "\n",
    "\n",
    "cols_for_hist = [\"Recall\", \"FPR\"]\n",
    "x = np.arange(len(cols_for_hist))  # the label locations\n",
    "width = 0.35  # the width of the bars\n",
    "\n",
    "fig, (ax1, ax2) = plt.subplots(1, 2, figsize = (11,5), sharey = True)\n",
    "rects1 = ax1.bar(x - width/2, white_neig_eq_odds_before, width, label='Predominantly non Afr-Am neighbourhoods', color = 'wheat')\n",
    "rects2 = ax1.bar(x + width/2, black_neig_eq_odds_before, width, label='Predominantly Afr-Am neighbourhoods', color = \"skyblue\")\n",
    "\n",
    "# Add some text for labels, title and custom x-axis tick labels, etc.\n",
    "ax1.set_ylabel('Rates', fontsize = 14)\n",
    "ax1.set_title('Before reprojection', fontsize = 17)\n",
    "ax1.set_xticks(x)\n",
    "ax1.set_xticklabels(cols_for_hist, fontsize = 12)\n",
    "ax1.set_ylim(top = 0.5)\n",
    "ax1.legend(fontsize = 12)\n",
    "\n",
    "autolabel(rects1, ax1)\n",
    "autolabel(rects2, ax1)\n",
    "\n",
    "# Plot equalized odds for black vs non-black neighbourhoods\n",
    "\n",
    "rects1 = ax2.bar(x - width/2, white_neig_eq_odds_after, width, label='Predominantly non Afr-Am neighbourhoods', color = 'wheat')\n",
    "rects2 = ax2.bar(x + width/2, black_neig_eq_odds_after, width, label='Predominantly Afr-Am neighbourhoods', color = \"skyblue\")\n",
    "\n",
    "# Add some text for labels, title and custom x-axis tick labels, etc.\n",
    "ax2.set_title(f'After reprojection ($\\lambda$ = 0)', fontsize = 17)\n",
    "ax2.set_xticks(x)\n",
    "ax2.set_xticklabels(cols_for_hist, fontsize = 12)\n",
    "ax2.set_ylim(top = 1.25)\n",
    "ax2.legend(fontsize = 12)\n",
    "\n",
    "autolabel(rects1, ax2)\n",
    "autolabel(rects2, ax2)\n",
    "\n",
    "fig.tight_layout()\n",
    "\n",
    "plt.savefig(\"Plots/eq_odds_before_after_reproject_logreg.png\")\n",
    "\n",
    "\n",
    "plt.show()"
   ]
  },
  {
   "cell_type": "code",
   "execution_count": 30,
   "id": "a744e6ee",
   "metadata": {},
   "outputs": [
    {
     "name": "stdout",
     "output_type": "stream",
     "text": [
      "              precision    recall  f1-score   support\n",
      "\n",
      "           0       0.77      0.92      0.84      1411\n",
      "           1       0.64      0.33      0.43       583\n",
      "\n",
      "    accuracy                           0.75      1994\n",
      "   macro avg       0.70      0.63      0.64      1994\n",
      "weighted avg       0.73      0.75      0.72      1994\n",
      "\n"
     ]
    }
   ],
   "source": [
    "print(classification_report(y, preds))"
   ]
  },
  {
   "cell_type": "code",
   "execution_count": 31,
   "id": "a0315103",
   "metadata": {},
   "outputs": [
    {
     "data": {
      "text/plain": [
       "0.5515055467511886"
      ]
     },
     "execution_count": 31,
     "metadata": {},
     "output_type": "execute_result"
    }
   ],
   "source": [
    "accuracy_score(data_y.HighCrime.values[IsBlack], preds[IsBlack])"
   ]
  },
  {
   "cell_type": "code",
   "execution_count": 32,
   "id": "2706753c",
   "metadata": {},
   "outputs": [
    {
     "data": {
      "text/plain": [
       "0.8400586940572267"
      ]
     },
     "execution_count": 32,
     "metadata": {},
     "output_type": "execute_result"
    }
   ],
   "source": [
    "accuracy_score(data_y.HighCrime.values[~IsBlack], preds[~IsBlack])"
   ]
  },
  {
   "cell_type": "code",
   "execution_count": 33,
   "id": "6beae7ff",
   "metadata": {},
   "outputs": [
    {
     "data": {
      "text/plain": [
       "(395, 164.0)"
      ]
     },
     "execution_count": 33,
     "metadata": {},
     "output_type": "execute_result"
    }
   ],
   "source": [
    "np.sum(data_y.HighCrime.values[IsBlack]), np.sum(preds[IsBlack])"
   ]
  },
  {
   "cell_type": "code",
   "execution_count": 34,
   "id": "ce53de22",
   "metadata": {},
   "outputs": [
    {
     "data": {
      "text/plain": [
       "(188, 138.0)"
      ]
     },
     "execution_count": 34,
     "metadata": {},
     "output_type": "execute_result"
    }
   ],
   "source": [
    "np.sum(data_y.HighCrime.values[~IsBlack]), np.sum(preds[~IsBlack])"
   ]
  },
  {
   "cell_type": "markdown",
   "id": "9b144c24",
   "metadata": {},
   "source": [
    "# Berk linear constraint model"
   ]
  },
  {
   "cell_type": "code",
   "execution_count": 35,
   "id": "e924fc6d",
   "metadata": {},
   "outputs": [],
   "source": [
    "from src.linear_models import BerkFairLogreg"
   ]
  },
  {
   "cell_type": "code",
   "execution_count": 36,
   "id": "97761fc4",
   "metadata": {},
   "outputs": [],
   "source": [
    "def scaling_func(scaling_obj):\n",
    "    def scale(x_train, x_test):\n",
    "        scaler = scaling_obj().fit(x_train)\n",
    "        return scaler.transform(x_train), scaler.transform(x_test)\n",
    "    return scale"
   ]
  },
  {
   "cell_type": "code",
   "execution_count": 37,
   "id": "ad8f857c",
   "metadata": {
    "scrolled": false
   },
   "outputs": [
    {
     "name": "stderr",
     "output_type": "stream",
     "text": [
      "  NIT   NF   F                       GTG\n",
      "    0    1  6.931471805599450E-01   1.89295686E+00\n"
     ]
    },
    {
     "name": "stdout",
     "output_type": "stream",
     "text": [
      "The model end state is 1 which is good\n"
     ]
    },
    {
     "name": "stderr",
     "output_type": "stream",
     "text": [
      "tnc: |fn-fn-1] = 0 -> convergence\n",
      "    1   53  6.931471805599450E-01   1.89295686E+00\n",
      "tnc: Converged (|f_n-f_(n-1)| ~= 0)\n",
      "  NIT   NF   F                       GTG\n",
      "    0    1  6.931471805599450E-01   1.82385362E+00\n",
      "tnc: |fn-fn-1] = 0 -> convergence\n",
      "    1   53  6.931471805599450E-01   1.82385362E+00\n",
      "tnc: Converged (|f_n-f_(n-1)| ~= 0)\n"
     ]
    },
    {
     "name": "stdout",
     "output_type": "stream",
     "text": [
      "The model end state is 1 which is good\n"
     ]
    },
    {
     "name": "stderr",
     "output_type": "stream",
     "text": [
      "  NIT   NF   F                       GTG\n",
      "    0    1  6.931471805599450E-01   1.87924722E+00\n",
      "tnc: |fn-fn-1] = 0 -> convergence\n",
      "    1   53  6.931471805599450E-01   1.87924722E+00\n",
      "tnc: Converged (|f_n-f_(n-1)| ~= 0)\n"
     ]
    },
    {
     "name": "stdout",
     "output_type": "stream",
     "text": [
      "The model end state is 1 which is good\n"
     ]
    },
    {
     "name": "stderr",
     "output_type": "stream",
     "text": [
      "  NIT   NF   F                       GTG\n",
      "    0    1  6.931471805599450E-01   1.83506708E+00\n",
      "tnc: |fn-fn-1] = 0 -> convergence\n",
      "    1   53  6.931471805599450E-01   1.83506708E+00\n",
      "tnc: Converged (|f_n-f_(n-1)| ~= 0)\n"
     ]
    },
    {
     "name": "stdout",
     "output_type": "stream",
     "text": [
      "The model end state is 1 which is good\n"
     ]
    },
    {
     "name": "stderr",
     "output_type": "stream",
     "text": [
      "  NIT   NF   F                       GTG\n",
      "    0    1  6.931471805599448E-01   1.73851005E+00\n"
     ]
    },
    {
     "name": "stdout",
     "output_type": "stream",
     "text": [
      "The model end state is 1 which is good\n"
     ]
    },
    {
     "name": "stderr",
     "output_type": "stream",
     "text": [
      "tnc: |fn-fn-1] = 0 -> convergence\n",
      "    1   53  6.931471805599448E-01   1.73851005E+00\n",
      "tnc: Converged (|f_n-f_(n-1)| ~= 0)\n"
     ]
    }
   ],
   "source": [
    "protected_col = \"IsBlack\"\n",
    "berk_data = data.copy()\n",
    "berk_data[\"interception\"] = np.ones(len(data))\n",
    "berk_data[protected_col] = data_full[protected_col]\n",
    "assert berk_data.columns[-1] == protected_col, f\"The last data must be the protected column, i.e. {protected_col}\"\n",
    "\n",
    "X, y = berk_data, data_y[\"HighCrime\"].values\n",
    "\n",
    "kfold = KFold(n_splits=5, shuffle=True, random_state=1)\n",
    "\n",
    "scaler = scaling_func(preprocessing.StandardScaler)\n",
    "\n",
    "model = BerkFairLogreg\n",
    "model_params = {\"lambda_\":1, \"gamma_\":0.001}\n",
    "\n",
    "preds = test_model(model, X, y, kfold, scaler=scaler,model_params=model_params)"
   ]
  },
  {
   "cell_type": "code",
   "execution_count": 38,
   "id": "88e7655c",
   "metadata": {},
   "outputs": [],
   "source": [
    "yhat = preds\n",
    "preds = np.array([1 if x > 0 else 0 for x in preds])"
   ]
  },
  {
   "cell_type": "code",
   "execution_count": 39,
   "id": "59263fb4",
   "metadata": {},
   "outputs": [
    {
     "data": {
      "text/plain": [
       "0.42978936810431295"
      ]
     },
     "execution_count": 39,
     "metadata": {},
     "output_type": "execute_result"
    }
   ],
   "source": [
    "preds.mean()"
   ]
  },
  {
   "cell_type": "markdown",
   "id": "10bec620",
   "metadata": {},
   "source": [
    "### Equalized odds regarding black ratio with unbias data"
   ]
  },
  {
   "cell_type": "code",
   "execution_count": 40,
   "id": "8f9a805e",
   "metadata": {},
   "outputs": [
    {
     "data": {
      "image/png": "[encoded data removed]",
      "text/plain": [
       "<Figure size 432x288 with 1 Axes>"
      ]
     },
     "metadata": {
      "needs_background": "light"
     },
     "output_type": "display_data"
    }
   ],
   "source": [
    "# Get scores for predominatly black areas\n",
    "recall, fpr = equalized_odds(data_y.HighCrime.values[IsBlack], preds[IsBlack])\n",
    "tmp_df_1 = pd.DataFrame({\"metric\":[\"recall\", \"fpr\"], \"score\":[recall, fpr], \"IsBlack\":[True, True]})\n",
    "\n",
    "# Get scores for non predominatly black areas\n",
    "recall, fpr = equalized_odds(data_y.HighCrime.values[~IsBlack], preds[~IsBlack])\n",
    "tmp_df_2 = pd.DataFrame({\"metric\":[\"recall\", \"fpr\"], \"score\":[recall, fpr], \"IsBlack\":[False, False]})\n",
    "\n",
    "# Concat results\n",
    "tmp_df = pd.concat([tmp_df_1, tmp_df_2])\n",
    "\n",
    "sns.barplot(data=tmp_df, x=\"metric\", y=\"score\", hue=\"IsBlack\")\n",
    "plt.show()"
   ]
  },
  {
   "cell_type": "code",
   "execution_count": 41,
   "id": "25d41127",
   "metadata": {},
   "outputs": [
    {
     "name": "stdout",
     "output_type": "stream",
     "text": [
      "              precision    recall  f1-score   support\n",
      "\n",
      "           0       0.94      0.76      0.84      1411\n",
      "           1       0.60      0.89      0.72       583\n",
      "\n",
      "    accuracy                           0.80      1994\n",
      "   macro avg       0.77      0.82      0.78      1994\n",
      "weighted avg       0.84      0.80      0.80      1994\n",
      "\n"
     ]
    }
   ],
   "source": [
    "print(classification_report(y, preds))"
   ]
  },
  {
   "cell_type": "code",
   "execution_count": 42,
   "id": "f8ddb37a",
   "metadata": {},
   "outputs": [
    {
     "data": {
      "text/plain": [
       "0.7606973058637084"
      ]
     },
     "execution_count": 42,
     "metadata": {},
     "output_type": "execute_result"
    }
   ],
   "source": [
    "accuracy_score(data_y.HighCrime.values[IsBlack], preds[IsBlack])"
   ]
  },
  {
   "cell_type": "code",
   "execution_count": 43,
   "id": "57885eba",
   "metadata": {},
   "outputs": [
    {
     "data": {
      "text/plain": [
       "0.8129126925898753"
      ]
     },
     "execution_count": 43,
     "metadata": {},
     "output_type": "execute_result"
    }
   ],
   "source": [
    "accuracy_score(data_y.HighCrime.values[~IsBlack], preds[~IsBlack])"
   ]
  },
  {
   "cell_type": "code",
   "execution_count": 44,
   "id": "ccf33292",
   "metadata": {},
   "outputs": [
    {
     "data": {
      "text/plain": [
       "(395, 506)"
      ]
     },
     "execution_count": 44,
     "metadata": {},
     "output_type": "execute_result"
    }
   ],
   "source": [
    "np.sum(data_y.HighCrime.values[IsBlack]), np.sum(preds[IsBlack])"
   ]
  },
  {
   "cell_type": "code",
   "execution_count": 45,
   "id": "b42c2ab2",
   "metadata": {},
   "outputs": [
    {
     "data": {
      "text/plain": [
       "(188, 351)"
      ]
     },
     "execution_count": 45,
     "metadata": {},
     "output_type": "execute_result"
    }
   ],
   "source": [
    "np.sum(data_y.HighCrime.values[~IsBlack]), np.sum(preds[~IsBlack])"
   ]
  }
 ],
 "metadata": {
  "kernelspec": {
   "display_name": "Python 3 (ipykernel)",
   "language": "python",
   "name": "python3"
  },
  "language_info": {
   "codemirror_mode": {
    "name": "ipython",
    "version": 3
   },
   "file_extension": ".py",
   "mimetype": "text/x-python",
   "name": "python",
   "nbconvert_exporter": "python",
   "pygments_lexer": "ipython3",
   "version": "3.8.12"
  },
  "latex_envs": {
   "LaTeX_envs_menu_present": true,
   "autoclose": false,
   "autocomplete": true,
   "bibliofile": "biblio.bib",
   "cite_by": "apalike",
   "current_citInitial": 1,
   "eqLabelWithNumbers": true,
   "eqNumInitial": 1,
   "hotkeys": {
    "equation": "Ctrl-E",
    "itemize": "Ctrl-I"
   },
   "labels_anchors": false,
   "latex_user_defs": false,
   "report_style_numbering": false,
   "user_envs_cfg": false
  }
 },
 "nbformat": 4,
 "nbformat_minor": 5
}
