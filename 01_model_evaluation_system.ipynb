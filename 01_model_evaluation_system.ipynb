{
 "cells": [
  {
   "cell_type": "code",
   "execution_count": 1,
   "id": "60ca217b",
   "metadata": {},
   "outputs": [],
   "source": [
    "import numpy as np\n",
    "import pandas as pd\n",
    "import matplotlib.pyplot as plt\n",
    "import seaborn as sns\n",
    "from sklearn.linear_model import LogisticRegression, LinearRegression\n",
    "from sklearn.model_selection import KFold, StratifiedKFold\n",
    "\n",
    "from sklearn import preprocessing\n",
    "from sklearn.metrics import classification_report\n",
    "from src.model_selection import test_model\n",
    "from sklearn.metrics import confusion_matrix, mean_squared_error\n",
    "from scipy.stats import pearsonr"
   ]
  },
  {
   "cell_type": "code",
   "execution_count": 2,
   "id": "62a2455f",
   "metadata": {},
   "outputs": [],
   "source": [
    "col_names = pd.read_csv(\"communities_names.csv\", header = None)\n",
    "list_of_column_names = []\n",
    "\n",
    "for index, row_data in col_names.iterrows():\n",
    "    list_of_column_names.append(str(row_data[0]))\n",
    "\n",
    "df = pd.read_csv(\"communities_data.csv\", names = list_of_column_names)"
   ]
  },
  {
   "cell_type": "code",
   "execution_count": 3,
   "id": "fbba701c",
   "metadata": {},
   "outputs": [],
   "source": [
    "target = \"ViolentCrimesPerPop\""
   ]
  },
  {
   "cell_type": "code",
   "execution_count": 4,
   "id": "8f70b515",
   "metadata": {},
   "outputs": [
    {
     "data": {
      "text/html": [
       "<div>\n",
       "<style scoped>\n",
       "    .dataframe tbody tr th:only-of-type {\n",
       "        vertical-align: middle;\n",
       "    }\n",
       "\n",
       "    .dataframe tbody tr th {\n",
       "        vertical-align: top;\n",
       "    }\n",
       "\n",
       "    .dataframe thead th {\n",
       "        text-align: right;\n",
       "    }\n",
       "</style>\n",
       "<table border=\"1\" class=\"dataframe\">\n",
       "  <thead>\n",
       "    <tr style=\"text-align: right;\">\n",
       "      <th></th>\n",
       "      <th>state</th>\n",
       "      <th>county</th>\n",
       "      <th>community</th>\n",
       "      <th>communityname</th>\n",
       "      <th>fold</th>\n",
       "      <th>population</th>\n",
       "      <th>householdsize</th>\n",
       "      <th>racepctblack</th>\n",
       "      <th>racePctWhite</th>\n",
       "      <th>racePctAsian</th>\n",
       "      <th>...</th>\n",
       "      <th>LandArea</th>\n",
       "      <th>PopDens</th>\n",
       "      <th>PctUsePubTrans</th>\n",
       "      <th>PolicCars</th>\n",
       "      <th>PolicOperBudg</th>\n",
       "      <th>LemasPctPolicOnPatr</th>\n",
       "      <th>LemasGangUnitDeploy</th>\n",
       "      <th>LemasPctOfficDrugUn</th>\n",
       "      <th>PolicBudgPerPop</th>\n",
       "      <th>ViolentCrimesPerPop</th>\n",
       "    </tr>\n",
       "  </thead>\n",
       "  <tbody>\n",
       "    <tr>\n",
       "      <th>0</th>\n",
       "      <td>8</td>\n",
       "      <td>?</td>\n",
       "      <td>?</td>\n",
       "      <td>Lakewoodcity</td>\n",
       "      <td>1</td>\n",
       "      <td>0.19</td>\n",
       "      <td>0.33</td>\n",
       "      <td>0.02</td>\n",
       "      <td>0.90</td>\n",
       "      <td>0.12</td>\n",
       "      <td>...</td>\n",
       "      <td>0.12</td>\n",
       "      <td>0.26</td>\n",
       "      <td>0.20</td>\n",
       "      <td>0.06</td>\n",
       "      <td>0.04</td>\n",
       "      <td>0.9</td>\n",
       "      <td>0.5</td>\n",
       "      <td>0.32</td>\n",
       "      <td>0.14</td>\n",
       "      <td>0.20</td>\n",
       "    </tr>\n",
       "    <tr>\n",
       "      <th>1</th>\n",
       "      <td>53</td>\n",
       "      <td>?</td>\n",
       "      <td>?</td>\n",
       "      <td>Tukwilacity</td>\n",
       "      <td>1</td>\n",
       "      <td>0.00</td>\n",
       "      <td>0.16</td>\n",
       "      <td>0.12</td>\n",
       "      <td>0.74</td>\n",
       "      <td>0.45</td>\n",
       "      <td>...</td>\n",
       "      <td>0.02</td>\n",
       "      <td>0.12</td>\n",
       "      <td>0.45</td>\n",
       "      <td>?</td>\n",
       "      <td>?</td>\n",
       "      <td>?</td>\n",
       "      <td>?</td>\n",
       "      <td>0.00</td>\n",
       "      <td>?</td>\n",
       "      <td>0.67</td>\n",
       "    </tr>\n",
       "    <tr>\n",
       "      <th>2</th>\n",
       "      <td>24</td>\n",
       "      <td>?</td>\n",
       "      <td>?</td>\n",
       "      <td>Aberdeentown</td>\n",
       "      <td>1</td>\n",
       "      <td>0.00</td>\n",
       "      <td>0.42</td>\n",
       "      <td>0.49</td>\n",
       "      <td>0.56</td>\n",
       "      <td>0.17</td>\n",
       "      <td>...</td>\n",
       "      <td>0.01</td>\n",
       "      <td>0.21</td>\n",
       "      <td>0.02</td>\n",
       "      <td>?</td>\n",
       "      <td>?</td>\n",
       "      <td>?</td>\n",
       "      <td>?</td>\n",
       "      <td>0.00</td>\n",
       "      <td>?</td>\n",
       "      <td>0.43</td>\n",
       "    </tr>\n",
       "    <tr>\n",
       "      <th>3</th>\n",
       "      <td>34</td>\n",
       "      <td>5</td>\n",
       "      <td>81440</td>\n",
       "      <td>Willingborotownship</td>\n",
       "      <td>1</td>\n",
       "      <td>0.04</td>\n",
       "      <td>0.77</td>\n",
       "      <td>1.00</td>\n",
       "      <td>0.08</td>\n",
       "      <td>0.12</td>\n",
       "      <td>...</td>\n",
       "      <td>0.02</td>\n",
       "      <td>0.39</td>\n",
       "      <td>0.28</td>\n",
       "      <td>?</td>\n",
       "      <td>?</td>\n",
       "      <td>?</td>\n",
       "      <td>?</td>\n",
       "      <td>0.00</td>\n",
       "      <td>?</td>\n",
       "      <td>0.12</td>\n",
       "    </tr>\n",
       "    <tr>\n",
       "      <th>4</th>\n",
       "      <td>42</td>\n",
       "      <td>95</td>\n",
       "      <td>6096</td>\n",
       "      <td>Bethlehemtownship</td>\n",
       "      <td>1</td>\n",
       "      <td>0.01</td>\n",
       "      <td>0.55</td>\n",
       "      <td>0.02</td>\n",
       "      <td>0.95</td>\n",
       "      <td>0.09</td>\n",
       "      <td>...</td>\n",
       "      <td>0.04</td>\n",
       "      <td>0.09</td>\n",
       "      <td>0.02</td>\n",
       "      <td>?</td>\n",
       "      <td>?</td>\n",
       "      <td>?</td>\n",
       "      <td>?</td>\n",
       "      <td>0.00</td>\n",
       "      <td>?</td>\n",
       "      <td>0.03</td>\n",
       "    </tr>\n",
       "  </tbody>\n",
       "</table>\n",
       "<p>5 rows × 128 columns</p>\n",
       "</div>"
      ],
      "text/plain": [
       "   state county community        communityname  fold  population  \\\n",
       "0      8      ?         ?         Lakewoodcity     1        0.19   \n",
       "1     53      ?         ?          Tukwilacity     1        0.00   \n",
       "2     24      ?         ?         Aberdeentown     1        0.00   \n",
       "3     34      5     81440  Willingborotownship     1        0.04   \n",
       "4     42     95      6096    Bethlehemtownship     1        0.01   \n",
       "\n",
       "   householdsize  racepctblack  racePctWhite  racePctAsian  ...  LandArea  \\\n",
       "0           0.33          0.02          0.90          0.12  ...      0.12   \n",
       "1           0.16          0.12          0.74          0.45  ...      0.02   \n",
       "2           0.42          0.49          0.56          0.17  ...      0.01   \n",
       "3           0.77          1.00          0.08          0.12  ...      0.02   \n",
       "4           0.55          0.02          0.95          0.09  ...      0.04   \n",
       "\n",
       "   PopDens  PctUsePubTrans  PolicCars  PolicOperBudg  LemasPctPolicOnPatr  \\\n",
       "0     0.26            0.20       0.06           0.04                  0.9   \n",
       "1     0.12            0.45          ?              ?                    ?   \n",
       "2     0.21            0.02          ?              ?                    ?   \n",
       "3     0.39            0.28          ?              ?                    ?   \n",
       "4     0.09            0.02          ?              ?                    ?   \n",
       "\n",
       "   LemasGangUnitDeploy  LemasPctOfficDrugUn  PolicBudgPerPop  \\\n",
       "0                  0.5                 0.32             0.14   \n",
       "1                    ?                 0.00                ?   \n",
       "2                    ?                 0.00                ?   \n",
       "3                    ?                 0.00                ?   \n",
       "4                    ?                 0.00                ?   \n",
       "\n",
       "   ViolentCrimesPerPop  \n",
       "0                 0.20  \n",
       "1                 0.67  \n",
       "2                 0.43  \n",
       "3                 0.12  \n",
       "4                 0.03  \n",
       "\n",
       "[5 rows x 128 columns]"
      ]
     },
     "metadata": {},
     "output_type": "display_data"
    },
    {
     "data": {
      "text/plain": [
       "0    0.20\n",
       "1    0.67\n",
       "2    0.43\n",
       "3    0.12\n",
       "4    0.03\n",
       "Name: ViolentCrimesPerPop, dtype: float64"
      ]
     },
     "execution_count": 4,
     "metadata": {},
     "output_type": "execute_result"
    }
   ],
   "source": [
    "display(df.head())\n",
    "df.head()[target]"
   ]
  },
  {
   "cell_type": "code",
   "execution_count": null,
   "id": "890a2047",
   "metadata": {},
   "outputs": [],
   "source": []
  },
  {
   "cell_type": "code",
   "execution_count": 5,
   "id": "265000fb",
   "metadata": {},
   "outputs": [
    {
     "data": {
      "text/plain": [
       "[<matplotlib.lines.Line2D at 0x7fd8ec689d30>]"
      ]
     },
     "execution_count": 5,
     "metadata": {},
     "output_type": "execute_result"
    },
    {
     "data": {
      "image/png": "[encoded data removed]",
      "text/plain": [
       "<Figure size 432x288 with 1 Axes>"
      ]
     },
     "metadata": {
      "needs_background": "light"
     },
     "output_type": "display_data"
    }
   ],
   "source": [
    "plt.scatter(df[target], df[\"racepctblack\"])\n",
    "c, p = pearsonr(df[target], df[\"racepctblack\"])\n",
    "plt.plot([0,c])"
   ]
  },
  {
   "cell_type": "code",
   "execution_count": 6,
   "id": "2aeeae3e",
   "metadata": {},
   "outputs": [
    {
     "data": {
      "text/plain": [
       "[<matplotlib.lines.Line2D at 0x7fd8ee6b3f40>]"
      ]
     },
     "execution_count": 6,
     "metadata": {},
     "output_type": "execute_result"
    },
    {
     "data": {
      "image/png": "[encoded data removed]",
      "text/plain": [
       "<Figure size 432x288 with 1 Axes>"
      ]
     },
     "metadata": {
      "needs_background": "light"
     },
     "output_type": "display_data"
    }
   ],
   "source": [
    "plt.scatter(df[target], df[\"racePctWhite\"])\n",
    "c, p = pearsonr(df[target], df[\"racePctWhite\"])\n",
    "plt.plot([1,1+c])"
   ]
  },
  {
   "cell_type": "markdown",
   "id": "c85d6fa3",
   "metadata": {},
   "source": [
    "# Testing test_model with a simple linear regression"
   ]
  },
  {
   "cell_type": "code",
   "execution_count": 7,
   "id": "0de379eb",
   "metadata": {},
   "outputs": [],
   "source": [
    "X, y = df[[\"racePctWhite\", \"racepctblack\"]], df[target].values"
   ]
  },
  {
   "cell_type": "code",
   "execution_count": 8,
   "id": "5eecd363",
   "metadata": {},
   "outputs": [],
   "source": [
    "kfold = KFold(n_splits=5, shuffle=True, random_state=1)"
   ]
  },
  {
   "cell_type": "code",
   "execution_count": 9,
   "id": "fda92b64",
   "metadata": {},
   "outputs": [],
   "source": [
    "model = LinearRegression"
   ]
  },
  {
   "cell_type": "code",
   "execution_count": 10,
   "id": "6bd6c75d",
   "metadata": {},
   "outputs": [],
   "source": [
    "from src.model_selection import test_model"
   ]
  },
  {
   "cell_type": "code",
   "execution_count": 11,
   "id": "0c8abd14",
   "metadata": {},
   "outputs": [],
   "source": [
    "model_params = {\"fit_intercept\":True, \"normalize\":True}"
   ]
  },
  {
   "cell_type": "code",
   "execution_count": 12,
   "id": "bb9b20fb",
   "metadata": {},
   "outputs": [],
   "source": [
    "preds = test_model(model, X, y, kfold, model_params=model_params)"
   ]
  },
  {
   "cell_type": "code",
   "execution_count": 13,
   "id": "7e190085",
   "metadata": {},
   "outputs": [
    {
     "data": {
      "text/plain": [
       "0.16666303130199203"
      ]
     },
     "execution_count": 13,
     "metadata": {},
     "output_type": "execute_result"
    }
   ],
   "source": [
    "mean_squared_error(y,preds,squared=False)"
   ]
  },
  {
   "cell_type": "code",
   "execution_count": 14,
   "id": "b45eb66e",
   "metadata": {},
   "outputs": [
    {
     "data": {
      "text/plain": [
       "0.23292647291156512"
      ]
     },
     "execution_count": 14,
     "metadata": {},
     "output_type": "execute_result"
    }
   ],
   "source": [
    "# Baseline\n",
    "mean_squared_error(y,[np.mean(y)]*len(y),squared=False)"
   ]
  },
  {
   "cell_type": "code",
   "execution_count": 15,
   "id": "37aba898",
   "metadata": {},
   "outputs": [
    {
     "data": {
      "text/plain": [
       "<matplotlib.legend.Legend at 0x7fd8ee769b50>"
      ]
     },
     "execution_count": 15,
     "metadata": {},
     "output_type": "execute_result"
    },
    {
     "data": {
      "image/png": "[encoded data removed]",
      "text/plain": [
       "<Figure size 432x288 with 1 Axes>"
      ]
     },
     "metadata": {
      "needs_background": "light"
     },
     "output_type": "display_data"
    }
   ],
   "source": [
    "plt.hist(y, bins=30)\n",
    "plt.hist(preds, bins=30, color=\"orange\", alpha=0.7, label=\"predicted dist\")\n",
    "\n",
    "plt.vlines(np.mean(y), 0,250, colors=\"red\", label=\"Avg crime rate\")\n",
    "plt.legend(loc=\"upper right\")"
   ]
  },
  {
   "cell_type": "code",
   "execution_count": 16,
   "id": "5db65d24",
   "metadata": {},
   "outputs": [
    {
     "data": {
      "text/plain": [
       "<matplotlib.legend.Legend at 0x7fd8ee9c3af0>"
      ]
     },
     "execution_count": 16,
     "metadata": {},
     "output_type": "execute_result"
    },
    {
     "data": {
      "image/png": "[encoded data removed]",
      "text/plain": [
       "<Figure size 432x288 with 1 Axes>"
      ]
     },
     "metadata": {
      "needs_background": "light"
     },
     "output_type": "display_data"
    }
   ],
   "source": [
    "plt.hist(y-[np.mean(y)]*len(y), bins=30, color=\"blue\", alpha=0.7, label=\"Baseline dist\")\n",
    "\n",
    "plt.hist(y-preds, bins=30, color=\"orange\", alpha=0.7, label=\"predicted dist\")\n",
    "plt.legend(loc=\"upper right\")"
   ]
  },
  {
   "cell_type": "markdown",
   "id": "c7f67d3d",
   "metadata": {},
   "source": [
    "# Loading data"
   ]
  },
  {
   "cell_type": "code",
   "execution_count": 17,
   "id": "505c6f6f",
   "metadata": {},
   "outputs": [],
   "source": [
    "from src.processing import import_data"
   ]
  },
  {
   "cell_type": "code",
   "execution_count": 18,
   "id": "e2263c4e",
   "metadata": {},
   "outputs": [],
   "source": [
    "data_init, data_full, data, data_protected, data_y = import_data()"
   ]
  },
  {
   "cell_type": "code",
   "execution_count": 19,
   "id": "2c6eb4b4",
   "metadata": {},
   "outputs": [
    {
     "data": {
      "text/plain": [
       "<seaborn.axisgrid.FacetGrid at 0x7fd8eea3a3d0>"
      ]
     },
     "execution_count": 19,
     "metadata": {},
     "output_type": "execute_result"
    },
    {
     "data": {
      "image/png": "[encoded data removed]",
      "text/plain": [
       "<Figure size 420.75x360 with 1 Axes>"
      ]
     },
     "metadata": {
      "needs_background": "light"
     },
     "output_type": "display_data"
    }
   ],
   "source": [
    "sns.displot(data=data_full, x=\"racepctblack\", hue=\"HighCrime\")"
   ]
  },
  {
   "cell_type": "code",
   "execution_count": 20,
   "id": "3a5cb911",
   "metadata": {},
   "outputs": [
    {
     "data": {
      "text/plain": [
       "<seaborn.axisgrid.FacetGrid at 0x7fd8ece387f0>"
      ]
     },
     "execution_count": 20,
     "metadata": {},
     "output_type": "execute_result"
    },
    {
     "data": {
      "image/png": "[encoded data removed]",
      "text/plain": [
       "<Figure size 420.75x360 with 1 Axes>"
      ]
     },
     "metadata": {
      "needs_background": "light"
     },
     "output_type": "display_data"
    }
   ],
   "source": [
    "sns.displot(data=data_full, x=\"racePctWhite\", hue=\"HighCrime\")"
   ]
  },
  {
   "cell_type": "markdown",
   "id": "04e417ba",
   "metadata": {},
   "source": [
    "# Testing test model with Logistig regression on high crimerate"
   ]
  },
  {
   "cell_type": "code",
   "execution_count": 21,
   "id": "e22e478a",
   "metadata": {},
   "outputs": [],
   "source": [
    "def scaling_func(scaling_obj):\n",
    "    def scale(x_train, x_test):\n",
    "        scaler = scaling_obj().fit(x_train)\n",
    "        return scaler.transform(x_train), scaler.transform(x_test)\n",
    "    return scale\n"
   ]
  },
  {
   "cell_type": "code",
   "execution_count": 22,
   "id": "b0395f6a",
   "metadata": {},
   "outputs": [],
   "source": [
    "X, y = data, data_y[\"HighCrime\"]\n",
    "\n",
    "kfold = KFold(n_splits=5, shuffle=True, random_state=1)\n",
    "\n",
    "scaler = scaling_func(preprocessing.StandardScaler)\n",
    "\n",
    "model = LogisticRegression\n",
    "model_params = {\"random_state\":1, \"max_iter\":500}\n",
    "\n",
    "preds = test_model(model, X, y, kfold, scaler=scaler,model_params=model_params)"
   ]
  },
  {
   "cell_type": "markdown",
   "id": "bf121030",
   "metadata": {},
   "source": [
    "# Evaluation system\n",
    "## How to calculate equalized odds\n",
    "\n",
    "Recall and precision deffs https://towardsdatascience.com/accuracy-recall-precision-f-score-specificity-which-to-optimize-on-867d3f11124\n",
    "\n",
    "The two elements of equalized odds\n",
    "\n",
    "$tp / (tp+fn)$ # recall\n",
    "\n",
    "$fp/(tn+fp)$ # false positive ratio\n",
    "\n",
    "\n",
    "``` python\n",
    "\n",
    "def calc_recall(tp,fn):\n",
    "    \"\"\"\n",
    "    True positive rate (TPR, also called sensitivity) \n",
    "    \"\"\"\n",
    "    return tp/(tp+fn)\n",
    "def calc_fpr(tn,fp):\n",
    "    \"\"\"\n",
    "    False positive rate (also known as fall-out or false alarm ratio) \n",
    "    \"\"\"\n",
    "    return fp/(tn+fp)\n",
    "\n",
    "def equalized_odds(y_true, y_pred):\n",
    "    tn, fp, fn, tp  = confusion_matrix(y_true, y_pred).ravel()\n",
    "    recall = calc_recall(tp,fn)\n",
    "    fpr = calc_fpr(tn,fp)\n",
    "    return recall, fpr\n",
    "\n",
    "```"
   ]
  },
  {
   "cell_type": "code",
   "execution_count": 23,
   "id": "2a66006e",
   "metadata": {},
   "outputs": [],
   "source": [
    "from src.metrics import equalized_odds"
   ]
  },
  {
   "cell_type": "code",
   "execution_count": 24,
   "id": "a1da8dfa",
   "metadata": {},
   "outputs": [],
   "source": [
    "IsBlack = data_full.IsBlack == 1"
   ]
  },
  {
   "cell_type": "code",
   "execution_count": 25,
   "id": "6daf963c",
   "metadata": {},
   "outputs": [],
   "source": [
    "IsWhite = data_full.racePctWhite >= 0.70"
   ]
  },
  {
   "cell_type": "markdown",
   "id": "2ed23cd4",
   "metadata": {},
   "source": [
    "### Equalized odds regarding black ratio"
   ]
  },
  {
   "cell_type": "code",
   "execution_count": 26,
   "id": "eb3fb1c8",
   "metadata": {},
   "outputs": [
    {
     "data": {
      "image/png": "[encoded data removed]",
      "text/plain": [
       "<Figure size 432x288 with 1 Axes>"
      ]
     },
     "metadata": {
      "needs_background": "light"
     },
     "output_type": "display_data"
    }
   ],
   "source": [
    "# Get scores for predominatly black areas\n",
    "recall, fpr = equalized_odds(data_y.HighCrime.values[IsBlack], preds[IsBlack])\n",
    "tmp_df_1 = pd.DataFrame({\"metric\":[\"recall\", \"fpr\"], \"score\":[recall, fpr], \"IsBlack\":[True, True]})\n",
    "\n",
    "# Get scores for non predominatly black areas\n",
    "recall, fpr = equalized_odds(data_y.HighCrime.values[~IsBlack], preds[~IsBlack])\n",
    "tmp_df_2 = pd.DataFrame({\"metric\":[\"recall\", \"fpr\"], \"score\":[recall, fpr], \"IsBlack\":[False, False]})\n",
    "\n",
    "# Concat results\n",
    "tmp_df = pd.concat([tmp_df_1, tmp_df_2])\n",
    "\n",
    "sns.barplot(data=tmp_df, x=\"metric\", y=\"score\", hue=\"IsBlack\")\n",
    "plt.show()"
   ]
  },
  {
   "cell_type": "markdown",
   "id": "fb5c7573",
   "metadata": {},
   "source": [
    "### Equalized odds regarding white ratio"
   ]
  },
  {
   "cell_type": "code",
   "execution_count": 27,
   "id": "be133383",
   "metadata": {},
   "outputs": [
    {
     "data": {
      "image/png": "[encoded data removed]",
      "text/plain": [
       "<Figure size 432x288 with 1 Axes>"
      ]
     },
     "metadata": {
      "needs_background": "light"
     },
     "output_type": "display_data"
    }
   ],
   "source": [
    "# Get scores for predominatly White areas\n",
    "recall, fpr = equalized_odds(data_y.HighCrime.values[IsWhite], preds[IsWhite])\n",
    "tmp_df_1 = pd.DataFrame({\"metric\":[\"recall\", \"fpr\"], \"score\":[recall, fpr], \"IsWhite\":[True, True]})\n",
    "\n",
    "# Get scores for non predominatly White areas\n",
    "recall, fpr = equalized_odds(data_y.HighCrime.values[~IsWhite], preds[~IsWhite])\n",
    "tmp_df_2 = pd.DataFrame({\"metric\":[\"recall\", \"fpr\"], \"score\":[recall, fpr], \"IsWhite\":[False, False]})\n",
    "\n",
    "# Concat results\n",
    "tmp_df = pd.concat([tmp_df_1, tmp_df_2])\n",
    "\n",
    "sns.barplot(data=tmp_df, x=\"metric\", y=\"score\", hue=\"IsWhite\")\n",
    "plt.show()"
   ]
  },
  {
   "cell_type": "markdown",
   "id": "357f5fd8",
   "metadata": {},
   "source": [
    "# Debias data"
   ]
  },
  {
   "cell_type": "code",
   "execution_count": 28,
   "id": "9fab5f20",
   "metadata": {},
   "outputs": [],
   "source": [
    "from src.debias_data import debais_data"
   ]
  },
  {
   "cell_type": "code",
   "execution_count": 29,
   "id": "c66c277e",
   "metadata": {},
   "outputs": [],
   "source": [
    "y_cols = [\"ViolentCrimesPerPop\", \"HighCrime\"]\n",
    "protected_cols = [\"racepctblack\",\n",
    "                      \"racePctWhite\", \"racePctAsian\", \"racePctHisp\"]\n",
    "index_cols = [\"IsBlack\"]\n",
    "nonprotected_cols = [col for col in data_full.columns if col not in protected_cols + y_cols + index_cols]"
   ]
  },
  {
   "cell_type": "code",
   "execution_count": 30,
   "id": "a70c50c1",
   "metadata": {},
   "outputs": [],
   "source": [
    "# Initialize X (with out the label or the index columns)\n",
    "X, y = data_full.drop(columns=y_cols+index_cols), data_y[\"HighCrime\"]"
   ]
  },
  {
   "cell_type": "code",
   "execution_count": 31,
   "id": "8641dc52",
   "metadata": {},
   "outputs": [],
   "source": [
    "# Initialize the scaling and debiasing function\n",
    "l_value = 0.5\n",
    "scaler = debais_data(protected_cols, nonprotected_cols, lambda_=l_value)"
   ]
  },
  {
   "cell_type": "code",
   "execution_count": 32,
   "id": "b5a864c9",
   "metadata": {},
   "outputs": [],
   "source": [
    "kfold = KFold(n_splits=5, shuffle=True, random_state=1)\n",
    "\n",
    "model = LogisticRegression\n",
    "model_params = {\"random_state\":1, \"max_iter\":500}\n",
    "\n",
    "preds = test_model(model, X, y, kfold, scaler=scaler,model_params=model_params)"
   ]
  },
  {
   "cell_type": "code",
   "execution_count": null,
   "id": "6fd01a41",
   "metadata": {},
   "outputs": [],
   "source": []
  },
  {
   "cell_type": "markdown",
   "id": "07bca9c3",
   "metadata": {},
   "source": [
    "### Equalized odds regarding black ratio with unbias data"
   ]
  },
  {
   "cell_type": "code",
   "execution_count": 33,
   "id": "848e1f2e",
   "metadata": {},
   "outputs": [
    {
     "data": {
      "image/png": "[encoded data removed]",
      "text/plain": [
       "<Figure size 432x288 with 1 Axes>"
      ]
     },
     "metadata": {
      "needs_background": "light"
     },
     "output_type": "display_data"
    }
   ],
   "source": [
    "# Get scores for predominatly black areas\n",
    "recall, fpr = equalized_odds(data_y.HighCrime.values[IsBlack], preds[IsBlack])\n",
    "tmp_df_1 = pd.DataFrame({\"metric\":[\"recall\", \"fpr\"], \"score\":[recall, fpr], \"IsBlack\":[True, True]})\n",
    "\n",
    "# Get scores for non predominatly black areas\n",
    "recall, fpr = equalized_odds(data_y.HighCrime.values[~IsBlack], preds[~IsBlack])\n",
    "tmp_df_2 = pd.DataFrame({\"metric\":[\"recall\", \"fpr\"], \"score\":[recall, fpr], \"IsBlack\":[False, False]})\n",
    "\n",
    "# Concat results\n",
    "tmp_df = pd.concat([tmp_df_1, tmp_df_2])\n",
    "\n",
    "sns.barplot(data=tmp_df, x=\"metric\", y=\"score\", hue=\"IsBlack\")\n",
    "plt.show()"
   ]
  },
  {
   "cell_type": "markdown",
   "id": "61e7ee39",
   "metadata": {},
   "source": [
    "### Equalized odds regarding white ratio with unbias data"
   ]
  },
  {
   "cell_type": "code",
   "execution_count": 34,
   "id": "22abe7c2",
   "metadata": {},
   "outputs": [
    {
     "data": {
      "image/png": "[encoded data removed]",
      "text/plain": [
       "<Figure size 432x288 with 1 Axes>"
      ]
     },
     "metadata": {
      "needs_background": "light"
     },
     "output_type": "display_data"
    }
   ],
   "source": [
    "# Get scores for predominatly White areas\n",
    "recall, fpr = equalized_odds(data_y.HighCrime.values[IsWhite], preds[IsWhite])\n",
    "tmp_df_1 = pd.DataFrame({\"metric\":[\"recall\", \"fpr\"], \"score\":[recall, fpr], \"IsWhite\":[True, True]})\n",
    "\n",
    "# Get scores for non predominatly White areas\n",
    "recall, fpr = equalized_odds(data_y.HighCrime.values[~IsWhite], preds[~IsWhite])\n",
    "tmp_df_2 = pd.DataFrame({\"metric\":[\"recall\", \"fpr\"], \"score\":[recall, fpr], \"IsWhite\":[False, False]})\n",
    "\n",
    "# Concat results\n",
    "tmp_df = pd.concat([tmp_df_1, tmp_df_2])\n",
    "\n",
    "sns.barplot(data=tmp_df, x=\"metric\", y=\"score\", hue=\"IsWhite\")\n",
    "plt.show()"
   ]
  },
  {
   "cell_type": "code",
   "execution_count": null,
   "id": "29177b89",
   "metadata": {},
   "outputs": [],
   "source": []
  }
 ],
 "metadata": {
  "kernelspec": {
   "display_name": "Python 3 (ipykernel)",
   "language": "python",
   "name": "python3"
  },
  "language_info": {
   "codemirror_mode": {
    "name": "ipython",
    "version": 3
   },
   "file_extension": ".py",
   "mimetype": "text/x-python",
   "name": "python",
   "nbconvert_exporter": "python",
   "pygments_lexer": "ipython3",
   "version": "3.9.7"
  },
  "latex_envs": {
   "LaTeX_envs_menu_present": true,
   "autoclose": false,
   "autocomplete": true,
   "bibliofile": "biblio.bib",
   "cite_by": "apalike",
   "current_citInitial": 1,
   "eqLabelWithNumbers": true,
   "eqNumInitial": 1,
   "hotkeys": {
    "equation": "Ctrl-E",
    "itemize": "Ctrl-I"
   },
   "labels_anchors": false,
   "latex_user_defs": false,
   "report_style_numbering": false,
   "user_envs_cfg": false
  }
 },
 "nbformat": 4,
 "nbformat_minor": 5
}
